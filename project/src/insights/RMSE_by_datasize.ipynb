{
  "cells": [
    {
      "cell_type": "markdown",
      "id": "a85f1c65",
      "metadata": {
        "id": "a85f1c65"
      },
      "source": [
        "**1. Import necessary libraries**"
      ]
    },
    {
      "cell_type": "code",
      "source": [
        "!pip install implicit\n",
        "# !pip uninstall numpy -y\n",
        "# !pip install \"numpy<2.0\"\n",
        "# import os\n",
        "# os.kill(os.getpid(), 9)"
      ],
      "metadata": {
        "colab": {
          "base_uri": "https://localhost:8080/"
        },
        "id": "PsUfnLieMQ2e",
        "outputId": "4356ab5e-52ae-46f8-bfd1-8710438b51d8"
      },
      "id": "PsUfnLieMQ2e",
      "execution_count": 1,
      "outputs": [
        {
          "output_type": "stream",
          "name": "stdout",
          "text": [
            "Requirement already satisfied: implicit in /usr/local/lib/python3.11/dist-packages (0.7.2)\n",
            "Requirement already satisfied: numpy>=1.17.0 in /usr/local/lib/python3.11/dist-packages (from implicit) (1.26.4)\n",
            "Requirement already satisfied: scipy>=0.16 in /usr/local/lib/python3.11/dist-packages (from implicit) (1.14.1)\n",
            "Requirement already satisfied: tqdm>=4.27 in /usr/local/lib/python3.11/dist-packages (from implicit) (4.67.1)\n",
            "Requirement already satisfied: threadpoolctl in /usr/local/lib/python3.11/dist-packages (from implicit) (3.6.0)\n"
          ]
        }
      ]
    },
    {
      "cell_type": "code",
      "execution_count": 2,
      "id": "83891b66",
      "metadata": {
        "id": "83891b66"
      },
      "outputs": [],
      "source": [
        "# Cell 1:\n",
        "from pyspark.sql import SparkSession\n",
        "from pyspark.ml.recommendation import ALS\n",
        "from pyspark.ml.evaluation import RegressionEvaluator\n",
        "from pyspark.sql.functions import avg\n",
        "import pandas as pd\n",
        "import scipy.sparse as sparse\n",
        "import implicit\n",
        "import numpy as np\n",
        "from sklearn.metrics import mean_squared_error\n",
        "import warnings\n",
        "warnings.filterwarnings('ignore')\n"
      ]
    },
    {
      "cell_type": "markdown",
      "source": [
        "**2. Create or get Spark session**"
      ],
      "metadata": {
        "id": "SOcm9AWTPHAA"
      },
      "id": "SOcm9AWTPHAA"
    },
    {
      "cell_type": "code",
      "execution_count": 3,
      "id": "a860ff25",
      "metadata": {
        "id": "a860ff25"
      },
      "outputs": [],
      "source": [
        "spark = SparkSession.builder \\\n",
        "    .appName(\"ALS_by_Datasize\")\\\n",
        "    .config(\"spark.driver.memory\", \"4g\") \\\n",
        "    .config(\"spark.executor.memory\", \"4g\") \\\n",
        "    .config(\"spark.sql.shuffle.partitions\", \"50\") \\\n",
        "    .getOrCreate()"
      ]
    },
    {
      "cell_type": "markdown",
      "source": [
        "**3. Load and process data**"
      ],
      "metadata": {
        "id": "ZuZkslNVOpsk"
      },
      "id": "ZuZkslNVOpsk"
    },
    {
      "cell_type": "code",
      "execution_count": 4,
      "id": "4ca6cc97",
      "metadata": {
        "id": "4ca6cc97"
      },
      "outputs": [],
      "source": [
        "rating_df = spark.read.csv('/content/users-score-2023.csv', header=True, inferSchema=True)"
      ]
    },
    {
      "cell_type": "code",
      "execution_count": 5,
      "id": "f809757c",
      "metadata": {
        "id": "f809757c"
      },
      "outputs": [],
      "source": [
        "rating_df = rating_df.select('user_id', 'anime_id', 'rating')"
      ]
    },
    {
      "cell_type": "code",
      "execution_count": 6,
      "id": "aee73aeb",
      "metadata": {
        "colab": {
          "base_uri": "https://localhost:8080/"
        },
        "id": "aee73aeb",
        "outputId": "41e2b5a0-8253-4f57-fa4c-7bd354f01a2e"
      },
      "outputs": [
        {
          "output_type": "stream",
          "name": "stdout",
          "text": [
            "Total entries: 14211272\n",
            "Eligible entries: 14211272\n",
            "Ratio of eligible entries: 100.0%\n"
          ]
        }
      ],
      "source": [
        "from pyspark.sql.functions import isnan, col\n",
        "\n",
        "\n",
        "count_nan_df = rating_df.na.drop().filter(~isnan(col('rating'))).count()\n",
        "\n",
        "print(f\"Total entries: {rating_df.count()}\")\n",
        "print(f\"Eligible entries: {count_nan_df}\")\n",
        "print(f\"Ratio of eligible entries: {count_nan_df/rating_df.count()*100}%\")"
      ]
    },
    {
      "cell_type": "code",
      "execution_count": 7,
      "id": "7d5af00f",
      "metadata": {
        "colab": {
          "base_uri": "https://localhost:8080/"
        },
        "id": "7d5af00f",
        "outputId": "feb9607c-a40f-45e7-f5ba-21f813e73d40"
      },
      "outputs": [
        {
          "output_type": "execute_result",
          "data": {
            "text/plain": [
              "DataFrame[user_id: int, anime_id: int, rating: double]"
            ]
          },
          "metadata": {},
          "execution_count": 7
        }
      ],
      "source": [
        "from pyspark.sql.functions import avg\n",
        "rating_df = rating_df.groupBy(\"user_id\", \"anime_id\").agg(avg(\"rating\").alias(\"rating\"))\n",
        "rating_df.persist()"
      ]
    },
    {
      "cell_type": "code",
      "execution_count": 8,
      "id": "cae2f4d9",
      "metadata": {
        "colab": {
          "base_uri": "https://localhost:8080/"
        },
        "id": "cae2f4d9",
        "outputId": "8d3a0678-eeea-430c-8d9c-ebddbb2438df"
      },
      "outputs": [
        {
          "output_type": "stream",
          "name": "stdout",
          "text": [
            "+-------+--------+------+\n",
            "|user_id|anime_id|rating|\n",
            "+-------+--------+------+\n",
            "|      1|     306|   8.0|\n",
            "|      1|     877|   8.0|\n",
            "|      1|     198|   9.0|\n",
            "|      4|    9736|   6.0|\n",
            "|      4|   21437|   7.0|\n",
            "+-------+--------+------+\n",
            "only showing top 5 rows\n",
            "\n",
            "Total Ratings: 14,211,272\n"
          ]
        }
      ],
      "source": [
        "rating_df.show(5)\n",
        "print(f\"Total Ratings: {rating_df.count():,}\")"
      ]
    },
    {
      "cell_type": "code",
      "execution_count": 9,
      "id": "2092d77d",
      "metadata": {
        "id": "2092d77d"
      },
      "outputs": [],
      "source": [
        "# Sample as % of data\n",
        "small_fraction = 0.25\n",
        "medium_fraction = 0.5\n",
        "large_fraction = 0.75\n",
        "small_rating_sampled_df = rating_df.sample(fraction=small_fraction, seed=42)\n",
        "medium_rating_sampled_df = rating_df.sample(fraction=medium_fraction, seed=42)\n",
        "large_rating_sampled_df = rating_df.sample(fraction=large_fraction, seed=42)\n",
        "rating_sampled_df = rating_df"
      ]
    },
    {
      "cell_type": "markdown",
      "id": "77a28e95",
      "metadata": {
        "id": "77a28e95"
      },
      "source": [
        "**4. Split train/test**"
      ]
    },
    {
      "cell_type": "code",
      "execution_count": 10,
      "id": "8c16e00e",
      "metadata": {
        "colab": {
          "base_uri": "https://localhost:8080/"
        },
        "id": "8c16e00e",
        "outputId": "bbe0612e-b919-490c-ecf6-57e318814170"
      },
      "outputs": [
        {
          "output_type": "stream",
          "name": "stdout",
          "text": [
            "Cleaned train_df count: 10656345\n",
            "Cleaned test_df count: 3553191\n"
          ]
        }
      ],
      "source": [
        "small_train_df, small_test_df = small_rating_sampled_df.randomSplit([0.75, 0.25], seed=42)\n",
        "# Loại bỏ các dòng có giá trị NaN hoặc null trong cột 'rating'\n",
        "small_train_df = small_train_df.na.drop(subset=[\"rating\"])\n",
        "small_test_df = small_test_df.na.drop(subset=[\"rating\"])\n",
        "\n",
        "medium_train_df, medium_test_df = medium_rating_sampled_df.randomSplit([0.75, 0.25], seed=42)\n",
        "# Loại bỏ các dòng có giá trị NaN hoặc null trong cột 'rating'\n",
        "medium_train_df = medium_train_df.na.drop(subset=[\"rating\"])\n",
        "medium_test_df = medium_test_df.na.drop(subset=[\"rating\"])\n",
        "\n",
        "large_train_df, large_test_df = large_rating_sampled_df.randomSplit([0.75, 0.25], seed=42)\n",
        "# Loại bỏ các dòng có giá trị NaN hoặc null trong cột 'rating'\n",
        "large_train_df = large_train_df.na.drop(subset=[\"rating\"])\n",
        "large_test_df = large_test_df.na.drop(subset=[\"rating\"])\n",
        "\n",
        "train_df, test_df = rating_sampled_df.randomSplit([0.75, 0.25], seed=42)\n",
        "# Loại bỏ các dòng có giá trị NaN hoặc null trong cột 'rating'\n",
        "train_df = train_df.na.drop(subset=[\"rating\"])\n",
        "test_df = test_df.na.drop(subset=[\"rating\"])\n",
        "\n",
        "# Kiểm tra lại số dòng sau khi làm sạch\n",
        "print(f\"Cleaned train_df count: {train_df.count()}\")\n",
        "print(f\"Cleaned test_df count: {test_df.count()}\")"
      ]
    },
    {
      "cell_type": "markdown",
      "id": "93986546",
      "metadata": {
        "id": "93986546"
      },
      "source": [
        "**5. Training the ALS model**"
      ]
    },
    {
      "cell_type": "code",
      "execution_count": 11,
      "id": "88907a71",
      "metadata": {
        "id": "88907a71"
      },
      "outputs": [],
      "source": [
        "als = ALS(\n",
        "    userCol=\"user_id\",\n",
        "    itemCol=\"anime_id\",\n",
        "    ratingCol=\"rating\",\n",
        "    nonnegative=True,\n",
        "    implicitPrefs=False,\n",
        "    coldStartStrategy=\"drop\",\n",
        "    maxIter=10,\n",
        "    rank=50,\n",
        "    regParam=0.1\n",
        ")"
      ]
    },
    {
      "cell_type": "code",
      "execution_count": 12,
      "id": "4fdabb04",
      "metadata": {
        "id": "4fdabb04"
      },
      "outputs": [],
      "source": [
        "# Sample 25% of the data\n",
        "small_als_model = als.fit(small_train_df)\n",
        "small_test_predictions = small_als_model.transform(small_test_df)\n",
        "evaluator = RegressionEvaluator(metricName=\"rmse\", labelCol=\"rating\", predictionCol=\"prediction\")\n",
        "small_test_rmse_als = evaluator.evaluate(small_test_predictions)\n",
        "\n",
        "# Sample 5o% of the data\n",
        "medium_als_model = als.fit(medium_train_df)\n",
        "medium_test_predictions = medium_als_model.transform(medium_test_df)\n",
        "evaluator = RegressionEvaluator(metricName=\"rmse\", labelCol=\"rating\", predictionCol=\"prediction\")\n",
        "medium_test_rmse_als = evaluator.evaluate(medium_test_predictions)\n",
        "\n",
        "# Sample 75% of the data\n",
        "large_als_model = als.fit(large_train_df)\n",
        "large_test_predictions = large_als_model.transform(large_test_df)\n",
        "evaluator = RegressionEvaluator(metricName=\"rmse\", labelCol=\"rating\", predictionCol=\"prediction\")\n",
        "large_test_rmse_als = evaluator.evaluate(large_test_predictions)\n",
        "\n",
        "# Sample 100% of the data\n",
        "als_model = als.fit(train_df)\n",
        "test_predictions = als_model.transform(test_df)\n",
        "evaluator = RegressionEvaluator(metricName=\"rmse\", labelCol=\"rating\", predictionCol=\"prediction\")\n",
        "test_rmse_als = evaluator.evaluate(test_predictions)\n"
      ]
    },
    {
      "cell_type": "markdown",
      "source": [
        "**6. RMSE based on data set size**"
      ],
      "metadata": {
        "id": "VZmyACO0QSAc"
      },
      "id": "VZmyACO0QSAc"
    },
    {
      "cell_type": "code",
      "execution_count": 14,
      "id": "f5f183c2",
      "metadata": {
        "colab": {
          "base_uri": "https://localhost:8080/",
          "height": 472
        },
        "id": "f5f183c2",
        "outputId": "4c4b17c0-8e22-4c72-c0c1-d62226967222"
      },
      "outputs": [
        {
          "output_type": "display_data",
          "data": {
            "text/plain": [
              "<Figure size 640x480 with 1 Axes>"
            ],
            "image/png": "[encoded data removed]"
          },
          "metadata": {}
        }
      ],
      "source": [
        "import matplotlib.pyplot as plt\n",
        "\n",
        "sample_percentages = [25, 50, 75, 100]\n",
        "rmse_values = [small_test_rmse_als, medium_test_rmse_als,large_test_rmse_als, test_rmse_als]\n",
        "\n",
        "plt.plot(sample_percentages, rmse_values, marker='o')\n",
        "plt.xlabel('Data sample quantity ratio (%)')\n",
        "plt.ylabel('RMSE')\n",
        "plt.title('RMSE by dataset size')\n",
        "plt.grid(True)\n",
        "plt.show()"
      ]
    }
  ],
  "metadata": {
    "kernelspec": {
      "display_name": "Python 3",
      "language": "python",
      "name": "python3"
    },
    "language_info": {
      "codemirror_mode": {
        "name": "ipython",
        "version": 3
      },
      "file_extension": ".py",
      "mimetype": "text/x-python",
      "name": "python",
      "nbconvert_exporter": "python",
      "pygments_lexer": "ipython3",
      "version": "3.10.9"
    },
    "colab": {
      "provenance": []
    }
  },
  "nbformat": 4,
  "nbformat_minor": 5
}