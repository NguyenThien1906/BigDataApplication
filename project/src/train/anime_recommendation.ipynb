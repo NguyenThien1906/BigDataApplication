{
 "cells": [
  {
   "cell_type": "markdown",
   "id": "a96e1d7b",
   "metadata": {
    "execution": {
     "iopub.execute_input": "2023-06-12T12:09:47.331329Z",
     "iopub.status.busy": "2023-06-12T12:09:47.330924Z",
     "iopub.status.idle": "2023-06-12T12:09:47.378742Z",
     "shell.execute_reply": "2023-06-12T12:09:47.376876Z",
     "shell.execute_reply.started": "2023-06-12T12:09:47.331297Z"
    },
    "papermill": {
     "duration": 0.016147,
     "end_time": "2023-07-28T06:08:56.728053",
     "exception": false,
     "start_time": "2023-07-28T06:08:56.711906",
     "status": "completed"
    },
    "tags": []
   },
   "source": [
    "##### Notebook 2: Model Training\n",
    "\n",
    "Welcome to Notebook 2 of this recommendation system project!\n",
    "\n",
    "In Notebook 1, we performed exploratory data analysis (EDA), and visualized various aspects of the data to gain insights into our anime recommendation problem.\n",
    "\n",
    "In this notebook, we will focus on training the recommendation model. By separating the model training into a separate notebook, we ensure better memory management and organization of the project.\n",
    "\n",
    "Let's dive in!\n",
    "\n",
    "Note: If you haven't gone through Notebook 1 yet, I highly recommend you do so to understand the data and insights gained before moving on to the model training phase.\n",
    "\n",
    "[Click here to access Notebook 1: Exploratory Data Analysis and Dataset Preparation](https://www.kaggle.com/code/dbdmobile/anime-recommendation-1)"
   ]
  },
  {
   "cell_type": "code",
   "execution_count": null,
   "id": "aa28d022",
   "metadata": {
    "execution": {
     "iopub.execute_input": "2023-07-28T06:08:56.758012Z",
     "iopub.status.busy": "2023-07-28T06:08:56.757649Z",
     "iopub.status.idle": "2023-07-28T06:09:02.632158Z",
     "shell.execute_reply": "2023-07-28T06:09:02.631033Z"
    },
    "papermill": {
     "duration": 5.892295,
     "end_time": "2023-07-28T06:09:02.634794",
     "exception": false,
     "start_time": "2023-07-28T06:08:56.742499",
     "status": "completed"
    },
    "tags": []
   },
   "outputs": [],
   "source": [
    "#!pip install wordcloud -q"
   ]
  },
  {
   "cell_type": "code",
   "execution_count": 1,
   "id": "944350fa",
   "metadata": {
    "_cell_guid": "b1076dfc-b9ad-4769-8c92-a6c4dae69d19",
    "_uuid": "8f2839f25d086af736a60e9eeb907d3b93b6e0e5",
    "execution": {
     "iopub.execute_input": "2023-07-28T06:09:02.663723Z",
     "iopub.status.busy": "2023-07-28T06:09:02.663428Z",
     "iopub.status.idle": "2023-07-28T06:09:46.599778Z",
     "shell.execute_reply": "2023-07-28T06:09:46.598777Z"
    },
    "papermill": {
     "duration": 43.953781,
     "end_time": "2023-07-28T06:09:46.602406",
     "exception": false,
     "start_time": "2023-07-28T06:09:02.648625",
     "status": "completed"
    },
    "tags": []
   },
   "outputs": [
    {
     "name": "stderr",
     "output_type": "stream",
     "text": [
      "2025-04-02 19:20:49.063934: I tensorflow/core/platform/cpu_feature_guard.cc:210] This TensorFlow binary is optimized to use available CPU instructions in performance-critical operations.\n",
      "To enable the following instructions: SSE4.1 SSE4.2 AVX, in other operations, rebuild TensorFlow with the appropriate compiler flags.\n"
     ]
    }
   ],
   "source": [
    "### Basic libraries\n",
    "import numpy as np\n",
    "import pandas as pd\n",
    "import matplotlib.pyplot as plt\n",
    "%matplotlib inline\n",
    "import pickle\n",
    "import warnings\n",
    "warnings.filterwarnings(action='ignore')\n",
    "\n",
    "# Data Preprocessing\n",
    "from sklearn.preprocessing import MinMaxScaler\n",
    "from sklearn.preprocessing import LabelEncoder\n",
    "\n",
    "# Model Training\n",
    "from sklearn.utils import shuffle\n",
    "from sklearn.model_selection import train_test_split\n",
    "import tensorflow as tf\n",
    "\n",
    "## Import necessary modules for collaborative filtering\n",
    "from keras.layers import Input, Embedding, Dot, Flatten, Dense\n",
    "from keras.models import Model\n",
    "from keras.optimizers import Adam\n",
    "from wordcloud import WordCloud\n",
    "from collections import defaultdict\n",
    "from collections import Counter\n",
    "\n",
    "## Import necessary modules for content-based filtering\n",
    "from sklearn.feature_extraction.text import TfidfVectorizer\n",
    "from sklearn.metrics.pairwise import linear_kernel"
   ]
  },
  {
   "cell_type": "code",
   "execution_count": 2,
   "id": "b1fb0487",
   "metadata": {
    "execution": {
     "iopub.execute_input": "2023-07-28T06:09:46.631500Z",
     "iopub.status.busy": "2023-07-28T06:09:46.630983Z",
     "iopub.status.idle": "2023-07-28T06:10:11.241129Z",
     "shell.execute_reply": "2023-07-28T06:10:11.240264Z"
    },
    "papermill": {
     "duration": 24.627243,
     "end_time": "2023-07-28T06:10:11.243271",
     "exception": false,
     "start_time": "2023-07-28T06:09:46.616028",
     "status": "completed"
    },
    "tags": []
   },
   "outputs": [
    {
     "name": "stdout",
     "output_type": "stream",
     "text": [
      "Shape of the Dataset: (10000, 3)\n"
     ]
    },
    {
     "data": {
      "text/html": [
       "<div>\n",
       "<style scoped>\n",
       "    .dataframe tbody tr th:only-of-type {\n",
       "        vertical-align: middle;\n",
       "    }\n",
       "\n",
       "    .dataframe tbody tr th {\n",
       "        vertical-align: top;\n",
       "    }\n",
       "\n",
       "    .dataframe thead th {\n",
       "        text-align: right;\n",
       "    }\n",
       "</style>\n",
       "<table border=\"1\" class=\"dataframe\">\n",
       "  <thead>\n",
       "    <tr style=\"text-align: right;\">\n",
       "      <th></th>\n",
       "      <th>user_id</th>\n",
       "      <th>anime_id</th>\n",
       "      <th>rating</th>\n",
       "    </tr>\n",
       "  </thead>\n",
       "  <tbody>\n",
       "    <tr>\n",
       "      <th>0</th>\n",
       "      <td>1</td>\n",
       "      <td>21</td>\n",
       "      <td>9</td>\n",
       "    </tr>\n",
       "    <tr>\n",
       "      <th>1</th>\n",
       "      <td>1</td>\n",
       "      <td>48</td>\n",
       "      <td>7</td>\n",
       "    </tr>\n",
       "    <tr>\n",
       "      <th>2</th>\n",
       "      <td>1</td>\n",
       "      <td>320</td>\n",
       "      <td>5</td>\n",
       "    </tr>\n",
       "    <tr>\n",
       "      <th>3</th>\n",
       "      <td>1</td>\n",
       "      <td>49</td>\n",
       "      <td>8</td>\n",
       "    </tr>\n",
       "    <tr>\n",
       "      <th>4</th>\n",
       "      <td>1</td>\n",
       "      <td>304</td>\n",
       "      <td>8</td>\n",
       "    </tr>\n",
       "  </tbody>\n",
       "</table>\n",
       "</div>"
      ],
      "text/plain": [
       "   user_id  anime_id  rating\n",
       "0        1        21       9\n",
       "1        1        48       7\n",
       "2        1       320       5\n",
       "3        1        49       8\n",
       "4        1       304       8"
      ]
     },
     "execution_count": 2,
     "metadata": {},
     "output_type": "execute_result"
    }
   ],
   "source": [
    "# Load the dataset\n",
    "df=pd.read_csv('dataset/users-score-2023_short.csv', usecols=[\"user_id\",\"anime_id\",\"rating\"])\n",
    "print(\"Shape of the Dataset:\",df.shape)\n",
    "df.head()"
   ]
  },
  {
   "cell_type": "code",
   "execution_count": 3,
   "id": "b2296282",
   "metadata": {
    "execution": {
     "iopub.execute_input": "2023-07-28T06:10:11.274497Z",
     "iopub.status.busy": "2023-07-28T06:10:11.274207Z",
     "iopub.status.idle": "2023-07-28T06:10:15.851242Z",
     "shell.execute_reply": "2023-07-28T06:10:15.850368Z"
    },
    "papermill": {
     "duration": 4.594875,
     "end_time": "2023-07-28T06:10:15.853531",
     "exception": false,
     "start_time": "2023-07-28T06:10:11.258656",
     "status": "completed"
    },
    "tags": []
   },
   "outputs": [
    {
     "name": "stdout",
     "output_type": "stream",
     "text": [
      "Duplicated Rows:\n",
      "Empty DataFrame\n",
      "Columns: [user_id, anime_id, rating]\n",
      "Index: []\n"
     ]
    }
   ],
   "source": [
    "# Checking if there are any duplicate rows\n",
    "duplicated_rows = df[df.duplicated()]\n",
    "print(\"Duplicated Rows:\")\n",
    "print(duplicated_rows)"
   ]
  },
  {
   "cell_type": "code",
   "execution_count": 4,
   "id": "4d80a721",
   "metadata": {
    "execution": {
     "iopub.execute_input": "2023-07-28T06:10:15.883213Z",
     "iopub.status.busy": "2023-07-28T06:10:15.882863Z",
     "iopub.status.idle": "2023-07-28T06:10:15.912963Z",
     "shell.execute_reply": "2023-07-28T06:10:15.912105Z"
    },
    "papermill": {
     "duration": 0.047536,
     "end_time": "2023-07-28T06:10:15.915084",
     "exception": false,
     "start_time": "2023-07-28T06:10:15.867548",
     "status": "completed"
    },
    "tags": []
   },
   "outputs": [
    {
     "name": "stdout",
     "output_type": "stream",
     "text": [
      "Average Score: 7.4825\n"
     ]
    }
   ],
   "source": [
    "# Calculating the average score\n",
    "avg_score = np.mean(df['rating'])\n",
    "print('Average Score:', avg_score)"
   ]
  },
  {
   "cell_type": "markdown",
   "id": "1ef072bd",
   "metadata": {
    "papermill": {
     "duration": 0.013813,
     "end_time": "2023-07-28T06:10:15.943426",
     "exception": false,
     "start_time": "2023-07-28T06:10:15.929613",
     "status": "completed"
    },
    "tags": []
   },
   "source": [
    "# Data Preprocessing"
   ]
  },
  {
   "cell_type": "code",
   "execution_count": 5,
   "id": "049d4783",
   "metadata": {
    "execution": {
     "iopub.execute_input": "2023-07-28T06:10:15.973155Z",
     "iopub.status.busy": "2023-07-28T06:10:15.972851Z",
     "iopub.status.idle": "2023-07-28T06:10:16.325781Z",
     "shell.execute_reply": "2023-07-28T06:10:16.324815Z"
    },
    "papermill": {
     "duration": 0.371296,
     "end_time": "2023-07-28T06:10:16.328520",
     "exception": false,
     "start_time": "2023-07-28T06:10:15.957224",
     "status": "completed"
    },
    "tags": []
   },
   "outputs": [],
   "source": [
    "# Scaling our \"rating\" column\n",
    "# Create a MinMaxScaler object\n",
    "scaler = MinMaxScaler(feature_range=(0, 1))\n",
    "\n",
    "# Scale the 'score' column between 0 and 1\n",
    "df['scaled_score'] = scaler.fit_transform(df[['rating']])"
   ]
  },
  {
   "cell_type": "code",
   "execution_count": 6,
   "id": "46187591",
   "metadata": {
    "execution": {
     "iopub.execute_input": "2023-07-28T06:10:16.359183Z",
     "iopub.status.busy": "2023-07-28T06:10:16.358830Z",
     "iopub.status.idle": "2023-07-28T06:10:28.696479Z",
     "shell.execute_reply": "2023-07-28T06:10:28.695403Z"
    },
    "papermill": {
     "duration": 12.355881,
     "end_time": "2023-07-28T06:10:28.698964",
     "exception": false,
     "start_time": "2023-07-28T06:10:16.343083",
     "status": "completed"
    },
    "tags": []
   },
   "outputs": [
    {
     "name": "stdout",
     "output_type": "stream",
     "text": [
      "Number of unique users: 74, Number of unique anime: 2603\n",
      "Minimum rating: 1, Maximum rating: 10\n"
     ]
    }
   ],
   "source": [
    "# Encoding categorical data\n",
    "\n",
    "## Encoding user IDs\n",
    "user_encoder = LabelEncoder()\n",
    "df[\"user_encoded\"] = user_encoder.fit_transform(df[\"user_id\"])\n",
    "num_users = len(user_encoder.classes_)\n",
    "\n",
    "## Encoding anime IDs\n",
    "anime_encoder = LabelEncoder()\n",
    "df[\"anime_encoded\"] = anime_encoder.fit_transform(df[\"anime_id\"])\n",
    "num_animes = len(anime_encoder.classes_)\n",
    "\n",
    "# Printing dataset information\n",
    "print(\"Number of unique users: {}, Number of unique anime: {}\".format(num_users, num_animes))\n",
    "print(\"Minimum rating: {}, Maximum rating: {}\".format(min(df['rating']), max(df['rating'])))"
   ]
  },
  {
   "cell_type": "markdown",
   "id": "1bb17f4e",
   "metadata": {
    "papermill": {
     "duration": 0.016828,
     "end_time": "2023-07-28T06:10:28.732128",
     "exception": false,
     "start_time": "2023-07-28T06:10:28.715300",
     "status": "completed"
    },
    "tags": []
   },
   "source": [
    "# Model training (collaborative filtering)"
   ]
  },
  {
   "cell_type": "code",
   "execution_count": 7,
   "id": "55585222",
   "metadata": {
    "execution": {
     "iopub.execute_input": "2023-07-28T06:10:28.766240Z",
     "iopub.status.busy": "2023-07-28T06:10:28.765461Z",
     "iopub.status.idle": "2023-07-28T06:10:33.462121Z",
     "shell.execute_reply": "2023-07-28T06:10:33.461229Z"
    },
    "papermill": {
     "duration": 4.716308,
     "end_time": "2023-07-28T06:10:33.464471",
     "exception": false,
     "start_time": "2023-07-28T06:10:28.748163",
     "status": "completed"
    },
    "tags": []
   },
   "outputs": [
    {
     "name": "stdout",
     "output_type": "stream",
     "text": [
      "Shape of X: (10000, 2)\n",
      "Shape of y: (10000,)\n"
     ]
    }
   ],
   "source": [
    "# Shuffle the dataset\n",
    "df = shuffle(df, random_state=100)\n",
    "\n",
    "# Create feature matrix X and target variable y\n",
    "X = df[['user_encoded', 'anime_encoded']].values\n",
    "y = df[\"scaled_score\"].values\n",
    "\n",
    "# Printing dataset information\n",
    "print(\"Shape of X:\", X.shape)\n",
    "print(\"Shape of y:\", y.shape)"
   ]
  },
  {
   "cell_type": "code",
   "execution_count": 8,
   "id": "1a65dd08",
   "metadata": {
    "execution": {
     "iopub.execute_input": "2023-07-28T06:10:33.494582Z",
     "iopub.status.busy": "2023-07-28T06:10:33.494285Z",
     "iopub.status.idle": "2023-07-28T06:10:36.671040Z",
     "shell.execute_reply": "2023-07-28T06:10:36.670078Z"
    },
    "papermill": {
     "duration": 3.194518,
     "end_time": "2023-07-28T06:10:36.673253",
     "exception": false,
     "start_time": "2023-07-28T06:10:33.478735",
     "status": "completed"
    },
    "tags": []
   },
   "outputs": [
    {
     "name": "stdout",
     "output_type": "stream",
     "text": [
      "Number of samples in the training set: 7000\n",
      "Number of samples in the test set: 3000\n"
     ]
    }
   ],
   "source": [
    "test_set_size = int(df.shape[0] * 0.3)  # Number of samples to include in the test set\n",
    "\n",
    "X_train, X_test, y_train, y_test = train_test_split(X, y, test_size=test_set_size, random_state=73)\n",
    "\n",
    "print(\"Number of samples in the training set:\", len(y_train))\n",
    "print(\"Number of samples in the test set:\", len(y_test))"
   ]
  },
  {
   "cell_type": "code",
   "execution_count": 9,
   "id": "bf88a1e9",
   "metadata": {
    "execution": {
     "iopub.execute_input": "2023-07-28T06:10:36.703487Z",
     "iopub.status.busy": "2023-07-28T06:10:36.703184Z",
     "iopub.status.idle": "2023-07-28T06:10:36.707871Z",
     "shell.execute_reply": "2023-07-28T06:10:36.707101Z"
    },
    "papermill": {
     "duration": 0.022594,
     "end_time": "2023-07-28T06:10:36.710025",
     "exception": false,
     "start_time": "2023-07-28T06:10:36.687431",
     "status": "completed"
    },
    "tags": []
   },
   "outputs": [],
   "source": [
    "# Prepare input data for model training and evaluation\n",
    "X_train_array = [X_train[:, 0], X_train[:, 1]]\n",
    "X_test_array = [X_test[:, 0], X_test[:, 1]]"
   ]
  },
  {
   "cell_type": "code",
   "execution_count": 10,
   "id": "11b28eeb",
   "metadata": {
    "execution": {
     "iopub.execute_input": "2023-07-28T06:10:36.740515Z",
     "iopub.status.busy": "2023-07-28T06:10:36.740209Z",
     "iopub.status.idle": "2023-07-28T06:10:46.410153Z",
     "shell.execute_reply": "2023-07-28T06:10:46.408403Z"
    },
    "papermill": {
     "duration": 9.69542,
     "end_time": "2023-07-28T06:10:46.419966",
     "exception": false,
     "start_time": "2023-07-28T06:10:36.724546",
     "status": "completed"
    },
    "tags": []
   },
   "outputs": [
    {
     "name": "stdout",
     "output_type": "stream",
     "text": [
      "/bin/bash: line 1: nvidia-smi: command not found\n",
      "TensorFlow version: 2.17.0\n"
     ]
    }
   ],
   "source": [
    "# Setting TPU_INIT flag\n",
    "USE_TPU = False\n",
    "\n",
    "# Checking if TPU is initialized\n",
    "if USE_TPU:\n",
    "    # If tpu is connected then start creating TPUStrategy\n",
    "    tpu_resolver = tf.distribute.cluster_resolver.TPUClusterResolver.connect()\n",
    "    tpu_strategy = tf.distribute.experimental.TPUStrategy(tpu_resolver)\n",
    "else:\n",
    "    !nvidia-smi\n",
    "    \n",
    "# Print the TensorFlow version\n",
    "tf_version = tf.__version__\n",
    "print(f\"TensorFlow version: {tf_version}\")"
   ]
  },
  {
   "cell_type": "code",
   "execution_count": 11,
   "id": "e631cd46",
   "metadata": {
    "execution": {
     "iopub.execute_input": "2023-07-28T06:10:46.455903Z",
     "iopub.status.busy": "2023-07-28T06:10:46.455615Z",
     "iopub.status.idle": "2023-07-28T06:10:48.681348Z",
     "shell.execute_reply": "2023-07-28T06:10:48.680247Z"
    },
    "papermill": {
     "duration": 2.254124,
     "end_time": "2023-07-28T06:10:48.691429",
     "exception": false,
     "start_time": "2023-07-28T06:10:46.437305",
     "status": "completed"
    },
    "tags": []
   },
   "outputs": [
    {
     "data": {
      "text/html": [
       "<pre style=\"white-space:pre;overflow-x:auto;line-height:normal;font-family:Menlo,'DejaVu Sans Mono',consolas,'Courier New',monospace\"><span style=\"font-weight: bold\">Model: \"functional\"</span>\n",
       "</pre>\n"
      ],
      "text/plain": [
       "\u001b[1mModel: \"functional\"\u001b[0m\n"
      ]
     },
     "metadata": {},
     "output_type": "display_data"
    },
    {
     "data": {
      "text/html": [
       "<pre style=\"white-space:pre;overflow-x:auto;line-height:normal;font-family:Menlo,'DejaVu Sans Mono',consolas,'Courier New',monospace\">┏━━━━━━━━━━━━━━━━━━━━━┳━━━━━━━━━━━━━━━━━━━┳━━━━━━━━━━━━┳━━━━━━━━━━━━━━━━━━━┓\n",
       "┃<span style=\"font-weight: bold\"> Layer (type)        </span>┃<span style=\"font-weight: bold\"> Output Shape      </span>┃<span style=\"font-weight: bold\">    Param # </span>┃<span style=\"font-weight: bold\"> Connected to      </span>┃\n",
       "┡━━━━━━━━━━━━━━━━━━━━━╇━━━━━━━━━━━━━━━━━━━╇━━━━━━━━━━━━╇━━━━━━━━━━━━━━━━━━━┩\n",
       "│ user_encoded        │ (<span style=\"color: #00d7ff; text-decoration-color: #00d7ff\">None</span>, <span style=\"color: #00af00; text-decoration-color: #00af00\">1</span>)         │          <span style=\"color: #00af00; text-decoration-color: #00af00\">0</span> │ -                 │\n",
       "│ (<span style=\"color: #0087ff; text-decoration-color: #0087ff\">InputLayer</span>)        │                   │            │                   │\n",
       "├─────────────────────┼───────────────────┼────────────┼───────────────────┤\n",
       "│ anime_encoded       │ (<span style=\"color: #00d7ff; text-decoration-color: #00d7ff\">None</span>, <span style=\"color: #00af00; text-decoration-color: #00af00\">1</span>)         │          <span style=\"color: #00af00; text-decoration-color: #00af00\">0</span> │ -                 │\n",
       "│ (<span style=\"color: #0087ff; text-decoration-color: #0087ff\">InputLayer</span>)        │                   │            │                   │\n",
       "├─────────────────────┼───────────────────┼────────────┼───────────────────┤\n",
       "│ user_embedding      │ (<span style=\"color: #00d7ff; text-decoration-color: #00d7ff\">None</span>, <span style=\"color: #00af00; text-decoration-color: #00af00\">1</span>, <span style=\"color: #00af00; text-decoration-color: #00af00\">128</span>)    │      <span style=\"color: #00af00; text-decoration-color: #00af00\">9,472</span> │ user_encoded[<span style=\"color: #00af00; text-decoration-color: #00af00\">0</span>][<span style=\"color: #00af00; text-decoration-color: #00af00\">…</span> │\n",
       "│ (<span style=\"color: #0087ff; text-decoration-color: #0087ff\">Embedding</span>)         │                   │            │                   │\n",
       "├─────────────────────┼───────────────────┼────────────┼───────────────────┤\n",
       "│ anime_embedding     │ (<span style=\"color: #00d7ff; text-decoration-color: #00d7ff\">None</span>, <span style=\"color: #00af00; text-decoration-color: #00af00\">1</span>, <span style=\"color: #00af00; text-decoration-color: #00af00\">128</span>)    │    <span style=\"color: #00af00; text-decoration-color: #00af00\">333,184</span> │ anime_encoded[<span style=\"color: #00af00; text-decoration-color: #00af00\">0</span>]… │\n",
       "│ (<span style=\"color: #0087ff; text-decoration-color: #0087ff\">Embedding</span>)         │                   │            │                   │\n",
       "├─────────────────────┼───────────────────┼────────────┼───────────────────┤\n",
       "│ dot_product (<span style=\"color: #0087ff; text-decoration-color: #0087ff\">Dot</span>)   │ (<span style=\"color: #00d7ff; text-decoration-color: #00d7ff\">None</span>, <span style=\"color: #00af00; text-decoration-color: #00af00\">1</span>, <span style=\"color: #00af00; text-decoration-color: #00af00\">1</span>)      │          <span style=\"color: #00af00; text-decoration-color: #00af00\">0</span> │ user_embedding[<span style=\"color: #00af00; text-decoration-color: #00af00\">0</span>… │\n",
       "│                     │                   │            │ anime_embedding[<span style=\"color: #00af00; text-decoration-color: #00af00\">…</span> │\n",
       "├─────────────────────┼───────────────────┼────────────┼───────────────────┤\n",
       "│ flatten (<span style=\"color: #0087ff; text-decoration-color: #0087ff\">Flatten</span>)   │ (<span style=\"color: #00d7ff; text-decoration-color: #00d7ff\">None</span>, <span style=\"color: #00af00; text-decoration-color: #00af00\">1</span>)         │          <span style=\"color: #00af00; text-decoration-color: #00af00\">0</span> │ dot_product[<span style=\"color: #00af00; text-decoration-color: #00af00\">0</span>][<span style=\"color: #00af00; text-decoration-color: #00af00\">0</span>] │\n",
       "├─────────────────────┼───────────────────┼────────────┼───────────────────┤\n",
       "│ dense (<span style=\"color: #0087ff; text-decoration-color: #0087ff\">Dense</span>)       │ (<span style=\"color: #00d7ff; text-decoration-color: #00d7ff\">None</span>, <span style=\"color: #00af00; text-decoration-color: #00af00\">64</span>)        │        <span style=\"color: #00af00; text-decoration-color: #00af00\">128</span> │ flatten[<span style=\"color: #00af00; text-decoration-color: #00af00\">0</span>][<span style=\"color: #00af00; text-decoration-color: #00af00\">0</span>]     │\n",
       "├─────────────────────┼───────────────────┼────────────┼───────────────────┤\n",
       "│ dense_1 (<span style=\"color: #0087ff; text-decoration-color: #0087ff\">Dense</span>)     │ (<span style=\"color: #00d7ff; text-decoration-color: #00d7ff\">None</span>, <span style=\"color: #00af00; text-decoration-color: #00af00\">1</span>)         │         <span style=\"color: #00af00; text-decoration-color: #00af00\">65</span> │ dense[<span style=\"color: #00af00; text-decoration-color: #00af00\">0</span>][<span style=\"color: #00af00; text-decoration-color: #00af00\">0</span>]       │\n",
       "└─────────────────────┴───────────────────┴────────────┴───────────────────┘\n",
       "</pre>\n"
      ],
      "text/plain": [
       "┏━━━━━━━━━━━━━━━━━━━━━┳━━━━━━━━━━━━━━━━━━━┳━━━━━━━━━━━━┳━━━━━━━━━━━━━━━━━━━┓\n",
       "┃\u001b[1m \u001b[0m\u001b[1mLayer (type)       \u001b[0m\u001b[1m \u001b[0m┃\u001b[1m \u001b[0m\u001b[1mOutput Shape     \u001b[0m\u001b[1m \u001b[0m┃\u001b[1m \u001b[0m\u001b[1m   Param #\u001b[0m\u001b[1m \u001b[0m┃\u001b[1m \u001b[0m\u001b[1mConnected to     \u001b[0m\u001b[1m \u001b[0m┃\n",
       "┡━━━━━━━━━━━━━━━━━━━━━╇━━━━━━━━━━━━━━━━━━━╇━━━━━━━━━━━━╇━━━━━━━━━━━━━━━━━━━┩\n",
       "│ user_encoded        │ (\u001b[38;5;45mNone\u001b[0m, \u001b[38;5;34m1\u001b[0m)         │          \u001b[38;5;34m0\u001b[0m │ -                 │\n",
       "│ (\u001b[38;5;33mInputLayer\u001b[0m)        │                   │            │                   │\n",
       "├─────────────────────┼───────────────────┼────────────┼───────────────────┤\n",
       "│ anime_encoded       │ (\u001b[38;5;45mNone\u001b[0m, \u001b[38;5;34m1\u001b[0m)         │          \u001b[38;5;34m0\u001b[0m │ -                 │\n",
       "│ (\u001b[38;5;33mInputLayer\u001b[0m)        │                   │            │                   │\n",
       "├─────────────────────┼───────────────────┼────────────┼───────────────────┤\n",
       "│ user_embedding      │ (\u001b[38;5;45mNone\u001b[0m, \u001b[38;5;34m1\u001b[0m, \u001b[38;5;34m128\u001b[0m)    │      \u001b[38;5;34m9,472\u001b[0m │ user_encoded[\u001b[38;5;34m0\u001b[0m][\u001b[38;5;34m…\u001b[0m │\n",
       "│ (\u001b[38;5;33mEmbedding\u001b[0m)         │                   │            │                   │\n",
       "├─────────────────────┼───────────────────┼────────────┼───────────────────┤\n",
       "│ anime_embedding     │ (\u001b[38;5;45mNone\u001b[0m, \u001b[38;5;34m1\u001b[0m, \u001b[38;5;34m128\u001b[0m)    │    \u001b[38;5;34m333,184\u001b[0m │ anime_encoded[\u001b[38;5;34m0\u001b[0m]… │\n",
       "│ (\u001b[38;5;33mEmbedding\u001b[0m)         │                   │            │                   │\n",
       "├─────────────────────┼───────────────────┼────────────┼───────────────────┤\n",
       "│ dot_product (\u001b[38;5;33mDot\u001b[0m)   │ (\u001b[38;5;45mNone\u001b[0m, \u001b[38;5;34m1\u001b[0m, \u001b[38;5;34m1\u001b[0m)      │          \u001b[38;5;34m0\u001b[0m │ user_embedding[\u001b[38;5;34m0\u001b[0m… │\n",
       "│                     │                   │            │ anime_embedding[\u001b[38;5;34m…\u001b[0m │\n",
       "├─────────────────────┼───────────────────┼────────────┼───────────────────┤\n",
       "│ flatten (\u001b[38;5;33mFlatten\u001b[0m)   │ (\u001b[38;5;45mNone\u001b[0m, \u001b[38;5;34m1\u001b[0m)         │          \u001b[38;5;34m0\u001b[0m │ dot_product[\u001b[38;5;34m0\u001b[0m][\u001b[38;5;34m0\u001b[0m] │\n",
       "├─────────────────────┼───────────────────┼────────────┼───────────────────┤\n",
       "│ dense (\u001b[38;5;33mDense\u001b[0m)       │ (\u001b[38;5;45mNone\u001b[0m, \u001b[38;5;34m64\u001b[0m)        │        \u001b[38;5;34m128\u001b[0m │ flatten[\u001b[38;5;34m0\u001b[0m][\u001b[38;5;34m0\u001b[0m]     │\n",
       "├─────────────────────┼───────────────────┼────────────┼───────────────────┤\n",
       "│ dense_1 (\u001b[38;5;33mDense\u001b[0m)     │ (\u001b[38;5;45mNone\u001b[0m, \u001b[38;5;34m1\u001b[0m)         │         \u001b[38;5;34m65\u001b[0m │ dense[\u001b[38;5;34m0\u001b[0m][\u001b[38;5;34m0\u001b[0m]       │\n",
       "└─────────────────────┴───────────────────┴────────────┴───────────────────┘\n"
      ]
     },
     "metadata": {},
     "output_type": "display_data"
    },
    {
     "data": {
      "text/html": [
       "<pre style=\"white-space:pre;overflow-x:auto;line-height:normal;font-family:Menlo,'DejaVu Sans Mono',consolas,'Courier New',monospace\"><span style=\"font-weight: bold\"> Total params: </span><span style=\"color: #00af00; text-decoration-color: #00af00\">342,849</span> (1.31 MB)\n",
       "</pre>\n"
      ],
      "text/plain": [
       "\u001b[1m Total params: \u001b[0m\u001b[38;5;34m342,849\u001b[0m (1.31 MB)\n"
      ]
     },
     "metadata": {},
     "output_type": "display_data"
    },
    {
     "data": {
      "text/html": [
       "<pre style=\"white-space:pre;overflow-x:auto;line-height:normal;font-family:Menlo,'DejaVu Sans Mono',consolas,'Courier New',monospace\"><span style=\"font-weight: bold\"> Trainable params: </span><span style=\"color: #00af00; text-decoration-color: #00af00\">342,849</span> (1.31 MB)\n",
       "</pre>\n"
      ],
      "text/plain": [
       "\u001b[1m Trainable params: \u001b[0m\u001b[38;5;34m342,849\u001b[0m (1.31 MB)\n"
      ]
     },
     "metadata": {},
     "output_type": "display_data"
    },
    {
     "data": {
      "text/html": [
       "<pre style=\"white-space:pre;overflow-x:auto;line-height:normal;font-family:Menlo,'DejaVu Sans Mono',consolas,'Courier New',monospace\"><span style=\"font-weight: bold\"> Non-trainable params: </span><span style=\"color: #00af00; text-decoration-color: #00af00\">0</span> (0.00 B)\n",
       "</pre>\n"
      ],
      "text/plain": [
       "\u001b[1m Non-trainable params: \u001b[0m\u001b[38;5;34m0\u001b[0m (0.00 B)\n"
      ]
     },
     "metadata": {},
     "output_type": "display_data"
    }
   ],
   "source": [
    "def RecommenderNet(num_users, num_animes, embedding_size=128):\n",
    "    # User input layer and embedding layer\n",
    "    user = Input(name='user_encoded', shape=[1])\n",
    "    user_embedding = Embedding(name='user_embedding', input_dim=num_users, output_dim=embedding_size)(user)\n",
    "    \n",
    "    # Anime input layer and embedding layer\n",
    "    anime = Input(name='anime_encoded', shape=[1])\n",
    "    anime_embedding = Embedding(name='anime_embedding', input_dim=num_animes, output_dim=embedding_size)(anime)\n",
    "    \n",
    "    # Dot product of user and anime embeddings\n",
    "    dot_product = Dot(name='dot_product', normalize=True, axes=2)([user_embedding, anime_embedding])\n",
    "    flattened = Flatten()(dot_product)\n",
    "    \n",
    "    # Dense layers for prediction\n",
    "    dense = Dense(64, activation='relu')(flattened)\n",
    "    output = Dense(1, activation='sigmoid')(dense)\n",
    "    \n",
    "    # Create and compile the model\n",
    "    model = Model(inputs=[user, anime], outputs=output)\n",
    "    model.compile(loss='binary_crossentropy', optimizer=Adam(learning_rate=0.001), metrics=[\"mae\", \"mse\"])\n",
    "    \n",
    "    return model\n",
    "# Checking if TPU is initialized and create the model accordingly\n",
    "if USE_TPU:\n",
    "    with tpu_strategy.scope():\n",
    "        model = RecommenderNet(num_users, num_animes)\n",
    "else:\n",
    "    model = RecommenderNet(num_users, num_animes)\n",
    "\n",
    "# Printing my model summary\n",
    "model.summary()"
   ]
  },
  {
   "cell_type": "code",
   "execution_count": 12,
   "id": "a31d4252",
   "metadata": {
    "execution": {
     "iopub.execute_input": "2023-07-28T06:10:48.739898Z",
     "iopub.status.busy": "2023-07-28T06:10:48.739511Z",
     "iopub.status.idle": "2023-07-28T06:10:48.752546Z",
     "shell.execute_reply": "2023-07-28T06:10:48.751465Z"
    },
    "papermill": {
     "duration": 0.041421,
     "end_time": "2023-07-28T06:10:48.754830",
     "exception": false,
     "start_time": "2023-07-28T06:10:48.713409",
     "status": "completed"
    },
    "tags": []
   },
   "outputs": [],
   "source": [
    "## Import necessary callbacks\n",
    "from keras.callbacks import ModelCheckpoint, LearningRateScheduler, EarlyStopping\n",
    "\n",
    "# Define the initial learning rate, minimum learning rate, maximum learning rate, and batch size\n",
    "start_lr = 0.00001\n",
    "min_lr = 0.00001\n",
    "max_lr = 0.00005\n",
    "batch_size = 10000\n",
    "\n",
    "# Adjust the maximum learning rate and batch size if using TPU\n",
    "if USE_TPU:\n",
    "    max_lr = max_lr * tpu_strategy.num_replicas_in_sync\n",
    "    batch_size = batch_size * tpu_strategy.num_replicas_in_sync\n",
    "\n",
    "# Define the number of epochs for ramp-up, sustain, and exponential decay\n",
    "rampup_epochs = 5\n",
    "sustain_epochs = 0\n",
    "exp_decay = .8\n",
    "\n",
    "# Learning rate schedule function\n",
    "def lrfn(epoch):\n",
    "    if epoch < rampup_epochs:\n",
    "        return (max_lr - start_lr) / rampup_epochs * epoch + start_lr\n",
    "    elif epoch < rampup_epochs + sustain_epochs:\n",
    "        return max_lr\n",
    "    else:\n",
    "        return (max_lr - min_lr) * exp_decay**(epoch - rampup_epochs - sustain_epochs) + min_lr\n",
    "\n",
    "# Learning rate scheduler callback\n",
    "lr_callback = LearningRateScheduler(lambda epoch: lrfn(epoch), verbose=0)\n",
    "\n",
    "# File path for saving the model weights\n",
    "checkpoint_filepath = 'MLcp/myanime.weights.h5'\n",
    "\n",
    "# Model checkpoint callback to save the best weights\n",
    "model_checkpoints = ModelCheckpoint(filepath=checkpoint_filepath,\n",
    "                                    save_weights_only=True,\n",
    "                                    monitor='val_loss',\n",
    "                                    mode='min',\n",
    "                                    save_best_only=True)\n",
    "\n",
    "# Early stopping callback to prevent overfitting\n",
    "early_stopping = EarlyStopping(patience=3, monitor='val_loss', mode='min', restore_best_weights=True)\n",
    "\n",
    "# Define the list of callbacks\n",
    "my_callbacks = [\n",
    "    model_checkpoints,\n",
    "    lr_callback,\n",
    "    early_stopping\n",
    "]"
   ]
  },
  {
   "cell_type": "code",
   "execution_count": 13,
   "id": "ea24c7e5",
   "metadata": {
    "execution": {
     "iopub.execute_input": "2023-07-28T06:10:48.798496Z",
     "iopub.status.busy": "2023-07-28T06:10:48.798139Z",
     "iopub.status.idle": "2023-07-28T06:12:10.244111Z",
     "shell.execute_reply": "2023-07-28T06:12:10.242827Z"
    },
    "papermill": {
     "duration": 81.471222,
     "end_time": "2023-07-28T06:12:10.247133",
     "exception": false,
     "start_time": "2023-07-28T06:10:48.775911",
     "status": "completed"
    },
    "tags": []
   },
   "outputs": [
    {
     "name": "stdout",
     "output_type": "stream",
     "text": [
      "Epoch 1/20\n",
      "\u001b[1m1/1\u001b[0m \u001b[32m━━━━━━━━━━━━━━━━━━━━\u001b[0m\u001b[37m\u001b[0m \u001b[1m3s\u001b[0m 3s/step - loss: 0.6912 - mae: 0.2524 - mse: 0.0835 - val_loss: 0.6913 - val_mae: 0.2493 - val_mse: 0.0822 - learning_rate: 1.0000e-05\n",
      "Epoch 2/20\n",
      "\u001b[1m1/1\u001b[0m \u001b[32m━━━━━━━━━━━━━━━━━━━━\u001b[0m\u001b[37m\u001b[0m \u001b[1m0s\u001b[0m 372ms/step - loss: 0.6912 - mae: 0.2524 - mse: 0.0835 - val_loss: 0.6913 - val_mae: 0.2493 - val_mse: 0.0822 - learning_rate: 1.8000e-05\n",
      "Epoch 3/20\n",
      "\u001b[1m1/1\u001b[0m \u001b[32m━━━━━━━━━━━━━━━━━━━━\u001b[0m\u001b[37m\u001b[0m \u001b[1m0s\u001b[0m 227ms/step - loss: 0.6912 - mae: 0.2524 - mse: 0.0835 - val_loss: 0.6912 - val_mae: 0.2493 - val_mse: 0.0822 - learning_rate: 2.6000e-05\n",
      "Epoch 4/20\n",
      "\u001b[1m1/1\u001b[0m \u001b[32m━━━━━━━━━━━━━━━━━━━━\u001b[0m\u001b[37m\u001b[0m \u001b[1m0s\u001b[0m 224ms/step - loss: 0.6911 - mae: 0.2523 - mse: 0.0835 - val_loss: 0.6912 - val_mae: 0.2492 - val_mse: 0.0821 - learning_rate: 3.4000e-05\n",
      "Epoch 5/20\n",
      "\u001b[1m1/1\u001b[0m \u001b[32m━━━━━━━━━━━━━━━━━━━━\u001b[0m\u001b[37m\u001b[0m \u001b[1m1s\u001b[0m 590ms/step - loss: 0.6911 - mae: 0.2523 - mse: 0.0835 - val_loss: 0.6911 - val_mae: 0.2492 - val_mse: 0.0821 - learning_rate: 4.2000e-05\n",
      "Epoch 6/20\n",
      "\u001b[1m1/1\u001b[0m \u001b[32m━━━━━━━━━━━━━━━━━━━━\u001b[0m\u001b[37m\u001b[0m \u001b[1m0s\u001b[0m 247ms/step - loss: 0.6910 - mae: 0.2522 - mse: 0.0834 - val_loss: 0.6910 - val_mae: 0.2491 - val_mse: 0.0821 - learning_rate: 5.0000e-05\n",
      "Epoch 7/20\n",
      "\u001b[1m1/1\u001b[0m \u001b[32m━━━━━━━━━━━━━━━━━━━━\u001b[0m\u001b[37m\u001b[0m \u001b[1m0s\u001b[0m 290ms/step - loss: 0.6909 - mae: 0.2521 - mse: 0.0834 - val_loss: 0.6910 - val_mae: 0.2491 - val_mse: 0.0820 - learning_rate: 4.2000e-05\n",
      "Epoch 8/20\n",
      "\u001b[1m1/1\u001b[0m \u001b[32m━━━━━━━━━━━━━━━━━━━━\u001b[0m\u001b[37m\u001b[0m \u001b[1m0s\u001b[0m 229ms/step - loss: 0.6908 - mae: 0.2520 - mse: 0.0833 - val_loss: 0.6909 - val_mae: 0.2490 - val_mse: 0.0820 - learning_rate: 3.5600e-05\n",
      "Epoch 9/20\n",
      "\u001b[1m1/1\u001b[0m \u001b[32m━━━━━━━━━━━━━━━━━━━━\u001b[0m\u001b[37m\u001b[0m \u001b[1m0s\u001b[0m 267ms/step - loss: 0.6907 - mae: 0.2520 - mse: 0.0833 - val_loss: 0.6909 - val_mae: 0.2490 - val_mse: 0.0820 - learning_rate: 3.0480e-05\n",
      "Epoch 10/20\n",
      "\u001b[1m1/1\u001b[0m \u001b[32m━━━━━━━━━━━━━━━━━━━━\u001b[0m\u001b[37m\u001b[0m \u001b[1m0s\u001b[0m 289ms/step - loss: 0.6907 - mae: 0.2519 - mse: 0.0833 - val_loss: 0.6909 - val_mae: 0.2490 - val_mse: 0.0820 - learning_rate: 2.6384e-05\n",
      "Epoch 11/20\n",
      "\u001b[1m1/1\u001b[0m \u001b[32m━━━━━━━━━━━━━━━━━━━━\u001b[0m\u001b[37m\u001b[0m \u001b[1m0s\u001b[0m 351ms/step - loss: 0.6906 - mae: 0.2519 - mse: 0.0832 - val_loss: 0.6908 - val_mae: 0.2489 - val_mse: 0.0820 - learning_rate: 2.3107e-05\n",
      "Epoch 12/20\n",
      "\u001b[1m1/1\u001b[0m \u001b[32m━━━━━━━━━━━━━━━━━━━━\u001b[0m\u001b[37m\u001b[0m \u001b[1m0s\u001b[0m 294ms/step - loss: 0.6906 - mae: 0.2518 - mse: 0.0832 - val_loss: 0.6908 - val_mae: 0.2489 - val_mse: 0.0819 - learning_rate: 2.0486e-05\n",
      "Epoch 13/20\n",
      "\u001b[1m1/1\u001b[0m \u001b[32m━━━━━━━━━━━━━━━━━━━━\u001b[0m\u001b[37m\u001b[0m \u001b[1m0s\u001b[0m 260ms/step - loss: 0.6906 - mae: 0.2518 - mse: 0.0832 - val_loss: 0.6908 - val_mae: 0.2489 - val_mse: 0.0819 - learning_rate: 1.8389e-05\n",
      "Epoch 14/20\n",
      "\u001b[1m1/1\u001b[0m \u001b[32m━━━━━━━━━━━━━━━━━━━━\u001b[0m\u001b[37m\u001b[0m \u001b[1m0s\u001b[0m 257ms/step - loss: 0.6905 - mae: 0.2518 - mse: 0.0832 - val_loss: 0.6908 - val_mae: 0.2489 - val_mse: 0.0819 - learning_rate: 1.6711e-05\n",
      "Epoch 15/20\n",
      "\u001b[1m1/1\u001b[0m \u001b[32m━━━━━━━━━━━━━━━━━━━━\u001b[0m\u001b[37m\u001b[0m \u001b[1m0s\u001b[0m 392ms/step - loss: 0.6905 - mae: 0.2518 - mse: 0.0832 - val_loss: 0.6907 - val_mae: 0.2489 - val_mse: 0.0819 - learning_rate: 1.5369e-05\n",
      "Epoch 16/20\n",
      "\u001b[1m1/1\u001b[0m \u001b[32m━━━━━━━━━━━━━━━━━━━━\u001b[0m\u001b[37m\u001b[0m \u001b[1m0s\u001b[0m 384ms/step - loss: 0.6905 - mae: 0.2517 - mse: 0.0831 - val_loss: 0.6907 - val_mae: 0.2488 - val_mse: 0.0819 - learning_rate: 1.4295e-05\n",
      "Epoch 17/20\n",
      "\u001b[1m1/1\u001b[0m \u001b[32m━━━━━━━━━━━━━━━━━━━━\u001b[0m\u001b[37m\u001b[0m \u001b[1m0s\u001b[0m 315ms/step - loss: 0.6904 - mae: 0.2517 - mse: 0.0831 - val_loss: 0.6907 - val_mae: 0.2488 - val_mse: 0.0819 - learning_rate: 1.3436e-05\n",
      "Epoch 18/20\n",
      "\u001b[1m1/1\u001b[0m \u001b[32m━━━━━━━━━━━━━━━━━━━━\u001b[0m\u001b[37m\u001b[0m \u001b[1m0s\u001b[0m 334ms/step - loss: 0.6904 - mae: 0.2517 - mse: 0.0831 - val_loss: 0.6907 - val_mae: 0.2488 - val_mse: 0.0819 - learning_rate: 1.2749e-05\n",
      "Epoch 19/20\n",
      "\u001b[1m1/1\u001b[0m \u001b[32m━━━━━━━━━━━━━━━━━━━━\u001b[0m\u001b[37m\u001b[0m \u001b[1m0s\u001b[0m 363ms/step - loss: 0.6904 - mae: 0.2517 - mse: 0.0831 - val_loss: 0.6907 - val_mae: 0.2488 - val_mse: 0.0819 - learning_rate: 1.2199e-05\n",
      "Epoch 20/20\n",
      "\u001b[1m1/1\u001b[0m \u001b[32m━━━━━━━━━━━━━━━━━━━━\u001b[0m\u001b[37m\u001b[0m \u001b[1m0s\u001b[0m 287ms/step - loss: 0.6903 - mae: 0.2516 - mse: 0.0831 - val_loss: 0.6906 - val_mae: 0.2488 - val_mse: 0.0819 - learning_rate: 1.1759e-05\n"
     ]
    }
   ],
   "source": [
    "# Model training\n",
    "history = model.fit(\n",
    "    x=X_train_array,\n",
    "    y=y_train,\n",
    "    batch_size=batch_size,\n",
    "    epochs=20,\n",
    "    verbose=1,\n",
    "    validation_data=(X_test_array, y_test),\n",
    "    callbacks=my_callbacks\n",
    ")\n",
    "\n",
    "model.load_weights(checkpoint_filepath)"
   ]
  },
  {
   "cell_type": "code",
   "execution_count": 14,
   "id": "c1ba06e3",
   "metadata": {
    "execution": {
     "iopub.execute_input": "2023-07-28T06:12:10.452636Z",
     "iopub.status.busy": "2023-07-28T06:12:10.452266Z",
     "iopub.status.idle": "2023-07-28T06:12:10.866310Z",
     "shell.execute_reply": "2023-07-28T06:12:10.865110Z"
    },
    "papermill": {
     "duration": 0.519031,
     "end_time": "2023-07-28T06:12:10.868751",
     "exception": false,
     "start_time": "2023-07-28T06:12:10.349720",
     "status": "completed"
    },
    "tags": []
   },
   "outputs": [
    {
     "data": {
      "image/png": "[encoded data removed]",
      "text/plain": [
       "<Figure size 640x480 with 1 Axes>"
      ]
     },
     "metadata": {},
     "output_type": "display_data"
    }
   ],
   "source": [
    "# Training results visualization\n",
    "\n",
    "plt.plot(history.history[\"loss\"][0:-2])\n",
    "plt.plot(history.history[\"val_loss\"][0:-2])\n",
    "plt.title(\"Training Loss\")\n",
    "plt.ylabel(\"Loss\")\n",
    "plt.xlabel(\"Epoch\")\n",
    "plt.legend([\"Train\", \"Validation\"], loc=\"upper left\")\n",
    "plt.show()"
   ]
  },
  {
   "cell_type": "markdown",
   "id": "d7c99c22",
   "metadata": {
    "papermill": {
     "duration": 0.101043,
     "end_time": "2023-07-28T06:12:11.070680",
     "exception": false,
     "start_time": "2023-07-28T06:12:10.969637",
     "status": "completed"
    },
    "tags": []
   },
   "source": [
    "# Model weights extraction"
   ]
  },
  {
   "cell_type": "code",
   "execution_count": 15,
   "id": "0808b142",
   "metadata": {
    "execution": {
     "iopub.execute_input": "2023-07-28T06:12:11.275041Z",
     "iopub.status.busy": "2023-07-28T06:12:11.274657Z",
     "iopub.status.idle": "2023-07-28T06:12:11.509242Z",
     "shell.execute_reply": "2023-07-28T06:12:11.507819Z"
    },
    "papermill": {
     "duration": 0.340685,
     "end_time": "2023-07-28T06:12:11.512256",
     "exception": false,
     "start_time": "2023-07-28T06:12:11.171571",
     "status": "completed"
    },
    "tags": []
   },
   "outputs": [],
   "source": [
    "def extract_weights(name, model):\n",
    "    # Get the layer by name from the model\n",
    "    weight_layer = model.get_layer(name)\n",
    "    \n",
    "    # Get the weights from the layer\n",
    "    weights = weight_layer.get_weights()[0]\n",
    "    \n",
    "    # Normalize the weights\n",
    "    weights = weights / np.linalg.norm(weights, axis=1).reshape((-1, 1))\n",
    "    \n",
    "    return weights\n",
    "\n",
    "# Extract weights for anime embeddings\n",
    "anime_weights = extract_weights('anime_embedding', model)\n",
    "# Extract weights for user embeddings\n",
    "user_weights = extract_weights('user_embedding', model)"
   ]
  },
  {
   "cell_type": "markdown",
   "id": "eb33d4ec",
   "metadata": {
    "papermill": {
     "duration": 0.09984,
     "end_time": "2023-07-28T06:12:11.714098",
     "exception": false,
     "start_time": "2023-07-28T06:12:11.614258",
     "status": "completed"
    },
    "tags": []
   },
   "source": [
    "#### Reading the whole dataset"
   ]
  },
  {
   "cell_type": "code",
   "execution_count": 16,
   "id": "7d089dcf",
   "metadata": {
    "execution": {
     "iopub.execute_input": "2023-07-28T06:12:11.917737Z",
     "iopub.status.busy": "2023-07-28T06:12:11.917301Z",
     "iopub.status.idle": "2023-07-28T06:12:12.419987Z",
     "shell.execute_reply": "2023-07-28T06:12:12.418558Z"
    },
    "papermill": {
     "duration": 0.607798,
     "end_time": "2023-07-28T06:12:12.423043",
     "exception": false,
     "start_time": "2023-07-28T06:12:11.815245",
     "status": "completed"
    },
    "tags": []
   },
   "outputs": [],
   "source": [
    "df_anime=pd.read_csv('dataset/full/anime-dataset-2023.csv')"
   ]
  },
  {
   "cell_type": "markdown",
   "id": "b55f4865",
   "metadata": {
    "papermill": {
     "duration": 0.101806,
     "end_time": "2023-07-28T06:12:12.627620",
     "exception": false,
     "start_time": "2023-07-28T06:12:12.525814",
     "status": "completed"
    },
    "tags": []
   },
   "source": [
    "#### Now I want my model to recommend only those animes that have been rated by at least a certain number of users, which I will set as the threshold. This threshold helps ensure that the recommended anime titles have received a sufficient number of ratings, indicating a certain level of popularity or user engagement."
   ]
  },
  {
   "cell_type": "code",
   "execution_count": null,
   "id": "966b26aa",
   "metadata": {
    "execution": {
     "iopub.execute_input": "2023-07-28T06:12:12.836898Z",
     "iopub.status.busy": "2023-07-28T06:12:12.835871Z",
     "iopub.status.idle": "2023-07-28T06:12:12.877839Z",
     "shell.execute_reply": "2023-07-28T06:12:12.876663Z"
    },
    "papermill": {
     "duration": 0.150399,
     "end_time": "2023-07-28T06:12:12.880153",
     "exception": false,
     "start_time": "2023-07-28T06:12:12.729754",
     "status": "completed"
    },
    "tags": []
   },
   "outputs": [
    {
     "name": "stdout",
     "output_type": "stream",
     "text": [
      "(22879, 24)\n"
     ]
    },
    {
     "data": {
      "text/html": [
       "<div>\n",
       "<style scoped>\n",
       "    .dataframe tbody tr th:only-of-type {\n",
       "        vertical-align: middle;\n",
       "    }\n",
       "\n",
       "    .dataframe tbody tr th {\n",
       "        vertical-align: top;\n",
       "    }\n",
       "\n",
       "    .dataframe thead th {\n",
       "        text-align: right;\n",
       "    }\n",
       "</style>\n",
       "<table border=\"1\" class=\"dataframe\">\n",
       "  <thead>\n",
       "    <tr style=\"text-align: right;\">\n",
       "      <th></th>\n",
       "      <th>anime_id</th>\n",
       "      <th>Name</th>\n",
       "      <th>English name</th>\n",
       "      <th>Other name</th>\n",
       "      <th>Score</th>\n",
       "      <th>Genres</th>\n",
       "      <th>Synopsis</th>\n",
       "      <th>Type</th>\n",
       "      <th>Episodes</th>\n",
       "      <th>Aired</th>\n",
       "      <th>...</th>\n",
       "      <th>Studios</th>\n",
       "      <th>Source</th>\n",
       "      <th>Duration</th>\n",
       "      <th>Rating</th>\n",
       "      <th>Rank</th>\n",
       "      <th>Popularity</th>\n",
       "      <th>Favorites</th>\n",
       "      <th>Scored By</th>\n",
       "      <th>Members</th>\n",
       "      <th>Image URL</th>\n",
       "    </tr>\n",
       "  </thead>\n",
       "  <tbody>\n",
       "    <tr>\n",
       "      <th>0</th>\n",
       "      <td>1</td>\n",
       "      <td>Cowboy Bebop</td>\n",
       "      <td>Cowboy Bebop</td>\n",
       "      <td>カウボーイビバップ</td>\n",
       "      <td>8.75</td>\n",
       "      <td>Action, Award Winning, Sci-Fi</td>\n",
       "      <td>Crime is timeless. By the year 2071, humanity ...</td>\n",
       "      <td>TV</td>\n",
       "      <td>26.0</td>\n",
       "      <td>Apr 3, 1998 to Apr 24, 1999</td>\n",
       "      <td>...</td>\n",
       "      <td>Sunrise</td>\n",
       "      <td>Original</td>\n",
       "      <td>24 min per ep</td>\n",
       "      <td>R - 17+ (violence &amp; profanity)</td>\n",
       "      <td>41.0</td>\n",
       "      <td>43</td>\n",
       "      <td>78525</td>\n",
       "      <td>914193.0</td>\n",
       "      <td>1771505</td>\n",
       "      <td>https://cdn.myanimelist.net/images/anime/4/196...</td>\n",
       "    </tr>\n",
       "    <tr>\n",
       "      <th>1</th>\n",
       "      <td>5</td>\n",
       "      <td>Cowboy Bebop: Tengoku no Tobira</td>\n",
       "      <td>Cowboy Bebop: The Movie</td>\n",
       "      <td>カウボーイビバップ 天国の扉</td>\n",
       "      <td>8.38</td>\n",
       "      <td>Action, Sci-Fi</td>\n",
       "      <td>Another day, another bounty—such is the life o...</td>\n",
       "      <td>Movie</td>\n",
       "      <td>1.0</td>\n",
       "      <td>Sep 1, 2001</td>\n",
       "      <td>...</td>\n",
       "      <td>Bones</td>\n",
       "      <td>Original</td>\n",
       "      <td>1 hr 55 min</td>\n",
       "      <td>R - 17+ (violence &amp; profanity)</td>\n",
       "      <td>189.0</td>\n",
       "      <td>602</td>\n",
       "      <td>1448</td>\n",
       "      <td>206248.0</td>\n",
       "      <td>360978</td>\n",
       "      <td>https://cdn.myanimelist.net/images/anime/1439/...</td>\n",
       "    </tr>\n",
       "    <tr>\n",
       "      <th>2</th>\n",
       "      <td>6</td>\n",
       "      <td>Trigun</td>\n",
       "      <td>Trigun</td>\n",
       "      <td>トライガン</td>\n",
       "      <td>8.22</td>\n",
       "      <td>Action, Adventure, Sci-Fi</td>\n",
       "      <td>Vash the Stampede is the man with a $$60,000,0...</td>\n",
       "      <td>TV</td>\n",
       "      <td>26.0</td>\n",
       "      <td>Apr 1, 1998 to Sep 30, 1998</td>\n",
       "      <td>...</td>\n",
       "      <td>Madhouse</td>\n",
       "      <td>Manga</td>\n",
       "      <td>24 min per ep</td>\n",
       "      <td>PG-13 - Teens 13 or older</td>\n",
       "      <td>328.0</td>\n",
       "      <td>246</td>\n",
       "      <td>15035</td>\n",
       "      <td>356739.0</td>\n",
       "      <td>727252</td>\n",
       "      <td>https://cdn.myanimelist.net/images/anime/7/203...</td>\n",
       "    </tr>\n",
       "  </tbody>\n",
       "</table>\n",
       "<p>3 rows × 24 columns</p>\n",
       "</div>"
      ],
      "text/plain": [
       "   anime_id                             Name             English name  \\\n",
       "0         1                     Cowboy Bebop             Cowboy Bebop   \n",
       "1         5  Cowboy Bebop: Tengoku no Tobira  Cowboy Bebop: The Movie   \n",
       "2         6                           Trigun                   Trigun   \n",
       "\n",
       "       Other name Score                         Genres  \\\n",
       "0       カウボーイビバップ  8.75  Action, Award Winning, Sci-Fi   \n",
       "1  カウボーイビバップ 天国の扉  8.38                 Action, Sci-Fi   \n",
       "2           トライガン  8.22      Action, Adventure, Sci-Fi   \n",
       "\n",
       "                                            Synopsis   Type Episodes  \\\n",
       "0  Crime is timeless. By the year 2071, humanity ...     TV     26.0   \n",
       "1  Another day, another bounty—such is the life o...  Movie      1.0   \n",
       "2  Vash the Stampede is the man with a $$60,000,0...     TV     26.0   \n",
       "\n",
       "                         Aired  ...   Studios    Source       Duration  \\\n",
       "0  Apr 3, 1998 to Apr 24, 1999  ...   Sunrise  Original  24 min per ep   \n",
       "1                  Sep 1, 2001  ...     Bones  Original    1 hr 55 min   \n",
       "2  Apr 1, 1998 to Sep 30, 1998  ...  Madhouse     Manga  24 min per ep   \n",
       "\n",
       "                           Rating   Rank Popularity Favorites Scored By  \\\n",
       "0  R - 17+ (violence & profanity)   41.0         43     78525  914193.0   \n",
       "1  R - 17+ (violence & profanity)  189.0        602      1448  206248.0   \n",
       "2       PG-13 - Teens 13 or older  328.0        246     15035  356739.0   \n",
       "\n",
       "   Members                                          Image URL  \n",
       "0  1771505  https://cdn.myanimelist.net/images/anime/4/196...  \n",
       "1   360978  https://cdn.myanimelist.net/images/anime/1439/...  \n",
       "2   727252  https://cdn.myanimelist.net/images/anime/7/203...  \n",
       "\n",
       "[3 rows x 24 columns]"
      ]
     },
     "execution_count": 17,
     "metadata": {},
     "output_type": "execute_result"
    }
   ],
   "source": [
    "popularity_threshold = 50\n",
    "df_anime= df_anime.query('Members >= @popularity_threshold')\n",
    "print(df_anime.shape)\n",
    "df_anime.head(3)      # only give rating of those movies for which atleast 200 user have rated"
   ]
  },
  {
   "cell_type": "markdown",
   "id": "4857bb00",
   "metadata": {
    "papermill": {
     "duration": 0.103728,
     "end_time": "2023-07-28T06:12:14.806423",
     "exception": false,
     "start_time": "2023-07-28T06:12:14.702695",
     "status": "completed"
    },
    "tags": []
   },
   "source": [
    "# User-based Recommendation"
   ]
  },
  {
   "cell_type": "markdown",
   "id": "6a43717d",
   "metadata": {
    "papermill": {
     "duration": 0.110295,
     "end_time": "2023-07-28T06:12:15.023132",
     "exception": false,
     "start_time": "2023-07-28T06:12:14.912837",
     "status": "completed"
    },
    "tags": []
   },
   "source": [
    "## 1. Finding Similar Users"
   ]
  },
  {
   "cell_type": "markdown",
   "id": "8002f3bb",
   "metadata": {},
   "source": [
    "In this part, we randomly select a user from the dataset and find similar users based on their anime preferences. The find_similar_users function calculates the similarity between users using a weighted matrix and returns a dataframe of similar users. The function takes an input user, number of similar users to find (n), and other optional parameters. The result is a list of similar users to the input user."
   ]
  },
  {
   "cell_type": "code",
   "execution_count": 23,
   "id": "60f58f0d",
   "metadata": {
    "execution": {
     "iopub.execute_input": "2023-07-28T06:12:15.235240Z",
     "iopub.status.busy": "2023-07-28T06:12:15.234275Z",
     "iopub.status.idle": "2023-07-28T06:12:15.244967Z",
     "shell.execute_reply": "2023-07-28T06:12:15.243814Z"
    },
    "papermill": {
     "duration": 0.119567,
     "end_time": "2023-07-28T06:12:15.247199",
     "exception": false,
     "start_time": "2023-07-28T06:12:15.127632",
     "status": "completed"
    },
    "tags": []
   },
   "outputs": [],
   "source": [
    "def find_similar_users(item_input, n=10, return_dist=False, neg=False):\n",
    "    try:\n",
    "        index = item_input\n",
    "        encoded_index = user_encoder.transform([index])[0]\n",
    "        weights = user_weights\n",
    "        dists = np.dot(weights, weights[encoded_index])\n",
    "        sorted_dists = np.argsort(dists)\n",
    "        n = n + 1\n",
    "        \n",
    "        if neg:\n",
    "            closest = sorted_dists[:n]\n",
    "        else:\n",
    "            closest = sorted_dists[-n:]\n",
    "            \n",
    "        SimilarityArr = []\n",
    "        \n",
    "        for close in closest:\n",
    "            similarity = dists[close]\n",
    "            if isinstance(item_input, int):\n",
    "                decoded_id = user_encoder.inverse_transform([close])[0]\n",
    "                SimilarityArr.append({\"similar_users\": decoded_id, \"similarity\": similarity})\n",
    "        Frame = pd.DataFrame(SimilarityArr).sort_values(by=\"similarity\", ascending=False)\n",
    "        return Frame\n",
    "    except:\n",
    "        print('\\033[1m{}\\033[0m, Not Found in User list'.format(item_input))"
   ]
  },
  {
   "cell_type": "code",
   "execution_count": null,
   "id": "8d2926d3",
   "metadata": {
    "execution": {
     "iopub.execute_input": "2023-07-28T06:12:15.510666Z",
     "iopub.status.busy": "2023-07-28T06:12:15.510241Z",
     "iopub.status.idle": "2023-07-28T06:12:16.651497Z",
     "shell.execute_reply": "2023-07-28T06:12:16.650124Z"
    },
    "papermill": {
     "duration": 1.297559,
     "end_time": "2023-07-28T06:12:16.653733",
     "exception": false,
     "start_time": "2023-07-28T06:12:15.356174",
     "status": "completed"
    },
    "tags": []
   },
   "outputs": [
    {
     "data": {
      "text/html": [
       "<div>\n",
       "<style scoped>\n",
       "    .dataframe tbody tr th:only-of-type {\n",
       "        vertical-align: middle;\n",
       "    }\n",
       "\n",
       "    .dataframe tbody tr th {\n",
       "        vertical-align: top;\n",
       "    }\n",
       "\n",
       "    .dataframe thead th {\n",
       "        text-align: right;\n",
       "    }\n",
       "</style>\n",
       "<table border=\"1\" class=\"dataframe\">\n",
       "  <thead>\n",
       "    <tr style=\"text-align: right;\">\n",
       "      <th></th>\n",
       "      <th>similar_users</th>\n",
       "      <th>similarity</th>\n",
       "    </tr>\n",
       "  </thead>\n",
       "  <tbody>\n",
       "    <tr>\n",
       "      <th>9</th>\n",
       "      <td>232</td>\n",
       "      <td>0.261034</td>\n",
       "    </tr>\n",
       "    <tr>\n",
       "      <th>8</th>\n",
       "      <td>229</td>\n",
       "      <td>0.155008</td>\n",
       "    </tr>\n",
       "    <tr>\n",
       "      <th>7</th>\n",
       "      <td>67</td>\n",
       "      <td>0.140384</td>\n",
       "    </tr>\n",
       "    <tr>\n",
       "      <th>6</th>\n",
       "      <td>300</td>\n",
       "      <td>0.122876</td>\n",
       "    </tr>\n",
       "    <tr>\n",
       "      <th>5</th>\n",
       "      <td>293</td>\n",
       "      <td>0.116365</td>\n",
       "    </tr>\n",
       "    <tr>\n",
       "      <th>4</th>\n",
       "      <td>242</td>\n",
       "      <td>0.105496</td>\n",
       "    </tr>\n",
       "    <tr>\n",
       "      <th>3</th>\n",
       "      <td>208</td>\n",
       "      <td>0.101988</td>\n",
       "    </tr>\n",
       "    <tr>\n",
       "      <th>2</th>\n",
       "      <td>110</td>\n",
       "      <td>0.095650</td>\n",
       "    </tr>\n",
       "    <tr>\n",
       "      <th>1</th>\n",
       "      <td>169</td>\n",
       "      <td>0.081522</td>\n",
       "    </tr>\n",
       "    <tr>\n",
       "      <th>0</th>\n",
       "      <td>71</td>\n",
       "      <td>0.076638</td>\n",
       "    </tr>\n",
       "  </tbody>\n",
       "</table>\n",
       "</div>"
      ],
      "text/plain": [
       "   similar_users  similarity\n",
       "9            232    0.261034\n",
       "8            229    0.155008\n",
       "7             67    0.140384\n",
       "6            300    0.122876\n",
       "5            293    0.116365\n",
       "4            242    0.105496\n",
       "3            208    0.101988\n",
       "2            110    0.095650\n",
       "1            169    0.081522\n",
       "0             71    0.076638"
      ]
     },
     "execution_count": 24,
     "metadata": {},
     "output_type": "execute_result"
    }
   ],
   "source": [
    "# Select a random user\n",
    "ratings_per_user = df.groupby('user_id').size()\n",
    "#input_user = int(ratings_per_user[ratings_per_user < 500].sample(1, random_state=None).index[0])\n",
    "input_user = \n",
    "\n",
    "# Find similar users to the random user\n",
    "similar_users = find_similar_users(input_user, n=10, neg=False)\n",
    "similar_users = similar_users[similar_users.similar_users != input_user]\n",
    "similar_users"
   ]
  },
  {
   "cell_type": "markdown",
   "id": "c5103ab1",
   "metadata": {
    "papermill": {
     "duration": 0.104311,
     "end_time": "2023-07-28T06:12:16.874584",
     "exception": false,
     "start_time": "2023-07-28T06:12:16.770273",
     "status": "completed"
    },
    "tags": []
   },
   "source": [
    "## 2. User Preferences"
   ]
  },
  {
   "cell_type": "markdown",
   "id": "9c6cdd49",
   "metadata": {},
   "source": [
    "This part focuses on understanding the preferences of the selected user. The get_user_preferences function takes a user ID as input and retrieves the anime preferences of that user. It considers the top-rated animes by the user and analyzes the genres they prefer. The function also provides an option to plot a word cloud to visualize the preferred genres. The output is a dataframe containing the anime titles and their associated genres."
   ]
  },
  {
   "cell_type": "code",
   "execution_count": 25,
   "id": "65119377",
   "metadata": {
    "execution": {
     "iopub.execute_input": "2023-07-28T06:12:17.084857Z",
     "iopub.status.busy": "2023-07-28T06:12:17.083899Z",
     "iopub.status.idle": "2023-07-28T06:12:17.097154Z",
     "shell.execute_reply": "2023-07-28T06:12:17.095984Z"
    },
    "papermill": {
     "duration": 0.121015,
     "end_time": "2023-07-28T06:12:17.099493",
     "exception": false,
     "start_time": "2023-07-28T06:12:16.978478",
     "status": "completed"
    },
    "tags": []
   },
   "outputs": [],
   "source": [
    "# Function to display a word cloud of preferred genres\n",
    "def showWordCloud(all_genres):\n",
    "    genres_cloud = WordCloud(width=700, height=400, background_color='white', colormap='gnuplot').generate_from_frequencies(all_genres)\n",
    "    plt.figure(figsize=(10, 8))\n",
    "    plt.imshow(genres_cloud, interpolation='bilinear')\n",
    "    plt.axis('off')\n",
    "    plt.show()\n",
    "\n",
    "def get_user_preferences(user_id, plot=False, verbose=0):\n",
    "    animes_watched_by_user = df[df['user_id'] == user_id]\n",
    "    \n",
    "    if animes_watched_by_user.empty:\n",
    "        print(\"User #{} has not watched any animes.\".format(user_id))\n",
    "        return pd.DataFrame()\n",
    "    \n",
    "    user_rating_percentile = np.percentile(animes_watched_by_user.rating, 75)\n",
    "    animes_watched_by_user = animes_watched_by_user[animes_watched_by_user.rating >= user_rating_percentile]\n",
    "    top_animes_user = (\n",
    "        animes_watched_by_user.sort_values(by=\"rating\", ascending=False)\n",
    "        .anime_id.values\n",
    "    )\n",
    "    \n",
    "    anime_df_rows = df_anime[df_anime[\"anime_id\"].isin(top_animes_user)]\n",
    "    anime_df_rows = anime_df_rows[[\"Name\", \"Genres\"]]\n",
    "    \n",
    "    if verbose != 0:\n",
    "        print(\"User \\033[1m{}\\033[0m has watched {} anime(s) with an average rating of {:.1f}/10\\n\".format(\n",
    "            user_id, len(animes_watched_by_user), animes_watched_by_user['rating'].mean()\n",
    "        ))\n",
    "        print('\\033[1m----- Preferred genres----- \\033[0m\\n')\n",
    "\n",
    "    if plot:\n",
    "        genres_list = []\n",
    "        for genres in anime_df_rows['Genres']:\n",
    "            if isinstance(genres, str):\n",
    "                for genre in genres.split(','):\n",
    "                    genres_list.append(genre.strip())\n",
    "\n",
    "        showWordCloud(dict(Counter(genres_list)))\n",
    "    \n",
    "    return anime_df_rows"
   ]
  },
  {
   "cell_type": "code",
   "execution_count": null,
   "id": "b29b4af1",
   "metadata": {
    "execution": {
     "iopub.execute_input": "2023-07-28T06:12:17.308099Z",
     "iopub.status.busy": "2023-07-28T06:12:17.307751Z",
     "iopub.status.idle": "2023-07-28T06:12:17.722347Z",
     "shell.execute_reply": "2023-07-28T06:12:17.720907Z"
    },
    "papermill": {
     "duration": 0.521516,
     "end_time": "2023-07-28T06:12:17.724454",
     "exception": false,
     "start_time": "2023-07-28T06:12:17.202938",
     "status": "completed"
    },
    "tags": []
   },
   "outputs": [
    {
     "name": "stdout",
     "output_type": "stream",
     "text": [
      "User \u001b[1m111\u001b[0m has watched 23 anime(s) with an average rating of 9.4/10\n",
      "\n",
      "\u001b[1m----- Preferred genres----- \u001b[0m\n",
      "\n"
     ]
    },
    {
     "data": {
      "image/png": "[encoded data removed]",
      "text/plain": [
       "<Figure size 1000x800 with 1 Axes>"
      ]
     },
     "metadata": {},
     "output_type": "display_data"
    },
    {
     "data": {
      "text/html": [
       "<div>\n",
       "<style scoped>\n",
       "    .dataframe tbody tr th:only-of-type {\n",
       "        vertical-align: middle;\n",
       "    }\n",
       "\n",
       "    .dataframe tbody tr th {\n",
       "        vertical-align: top;\n",
       "    }\n",
       "\n",
       "    .dataframe thead th {\n",
       "        text-align: right;\n",
       "    }\n",
       "</style>\n",
       "<table border=\"1\" class=\"dataframe\">\n",
       "  <thead>\n",
       "    <tr style=\"text-align: right;\">\n",
       "      <th></th>\n",
       "      <th>Name</th>\n",
       "      <th>Genres</th>\n",
       "    </tr>\n",
       "  </thead>\n",
       "  <tbody>\n",
       "    <tr>\n",
       "      <th>3</th>\n",
       "      <td>Witch Hunter Robin</td>\n",
       "      <td>Action, Drama, Mystery, Supernatural</td>\n",
       "    </tr>\n",
       "    <tr>\n",
       "      <th>6</th>\n",
       "      <td>Hachimitsu to Clover</td>\n",
       "      <td>Comedy, Drama, Romance</td>\n",
       "    </tr>\n",
       "    <tr>\n",
       "      <th>20</th>\n",
       "      <td>Neon Genesis Evangelion</td>\n",
       "      <td>Action, Avant Garde, Award Winning, Drama, Sci-Fi, Suspense</td>\n",
       "    </tr>\n",
       "    <tr>\n",
       "      <th>29</th>\n",
       "      <td>.hack//Sign</td>\n",
       "      <td>Adventure, Fantasy, Mystery</td>\n",
       "    </tr>\n",
       "    <tr>\n",
       "      <th>35</th>\n",
       "      <td>Appleseed (Movie)</td>\n",
       "      <td>Action, Drama, Sci-Fi</td>\n",
       "    </tr>\n",
       "  </tbody>\n",
       "</table>\n",
       "</div>"
      ],
      "text/plain": [
       "                       Name  \\\n",
       "3        Witch Hunter Robin   \n",
       "6      Hachimitsu to Clover   \n",
       "20  Neon Genesis Evangelion   \n",
       "29              .hack//Sign   \n",
       "35        Appleseed (Movie)   \n",
       "\n",
       "                                                         Genres  \n",
       "3                          Action, Drama, Mystery, Supernatural  \n",
       "6                                        Comedy, Drama, Romance  \n",
       "20  Action, Avant Garde, Award Winning, Drama, Sci-Fi, Suspense  \n",
       "29                                  Adventure, Fantasy, Mystery  \n",
       "35                                        Action, Drama, Sci-Fi  "
      ]
     },
     "execution_count": 26,
     "metadata": {},
     "output_type": "execute_result"
    }
   ],
   "source": [
    "# Get user preferences for the random user\n",
    "user_pref = get_user_preferences(input_user, plot=True, verbose=1)\n",
    "pd.DataFrame(user_pref).head(5)"
   ]
  },
  {
   "cell_type": "markdown",
   "id": "1c8ab263",
   "metadata": {
    "papermill": {
     "duration": 0.106274,
     "end_time": "2023-07-28T06:12:17.937994",
     "exception": false,
     "start_time": "2023-07-28T06:12:17.831720",
     "status": "completed"
    },
    "tags": []
   },
   "source": [
    "## 3. Recommending Animes for a User"
   ]
  },
  {
   "cell_type": "markdown",
   "id": "1cbd4e08",
   "metadata": {},
   "source": [
    "In the final part, we recommend animes to the selected user based on the preferences of similar users. The get_recommended_animes function iterates through the list of similar users, retrieves their preferences, and identifies animes that are not present in the preferences of the selected user. It then generates a list of recommended animes along with their genres and a brief synopsis. The output is a dataframe containing the recommended animes for the user."
   ]
  },
  {
   "cell_type": "code",
   "execution_count": 27,
   "id": "777e37c5",
   "metadata": {
    "execution": {
     "iopub.execute_input": "2023-07-28T06:12:18.150375Z",
     "iopub.status.busy": "2023-07-28T06:12:18.150000Z",
     "iopub.status.idle": "2023-07-28T06:12:18.163200Z",
     "shell.execute_reply": "2023-07-28T06:12:18.162196Z"
    },
    "papermill": {
     "duration": 0.122096,
     "end_time": "2023-07-28T06:12:18.165391",
     "exception": false,
     "start_time": "2023-07-28T06:12:18.043295",
     "status": "completed"
    },
    "tags": []
   },
   "outputs": [],
   "source": [
    "def get_recommended_animes(similar_users, user_pref, n=10):\n",
    "    recommended_animes = []\n",
    "    anime_list = []\n",
    "    \n",
    "    for user_id in similar_users.similar_users.values:\n",
    "        pref_list = get_user_preferences(int(user_id))\n",
    "        if not pref_list.empty:  # Check if user has watched any animes\n",
    "            pref_list = pref_list[~pref_list[\"Name\"].isin(user_pref[\"Name\"].values)]\n",
    "            anime_list.append(pref_list.Name.values)\n",
    "            \n",
    "    if len(anime_list) == 0:\n",
    "        print(\"No anime recommendations available for the given users.\")\n",
    "        return pd.DataFrame()\n",
    "    \n",
    "    anime_list = pd.DataFrame(anime_list)\n",
    "    sorted_list = pd.DataFrame(pd.Series(anime_list.values.ravel()).value_counts()).head(n)\n",
    "    # Count the occurrences of each anime in the entire dataset\n",
    "    anime_count = df['anime_id'].value_counts()\n",
    "    \n",
    "    for i, anime_name in enumerate(sorted_list.index):\n",
    "        if isinstance(anime_name, str):\n",
    "            try:\n",
    "                anime_id = df_anime[df_anime.Name == anime_name].anime_id.values[0]\n",
    "                english_name = df_anime[df_anime['Name'] == anime_name]['English name'].values[0]\n",
    "                name = english_name if english_name != \"UNKNOWN\" else anime_name\n",
    "                genre = df_anime[df_anime.Name == anime_name].Genres.values[0]\n",
    "                Synopsis = df_anime[df_anime.Name == anime_name].Synopsis.values[0]\n",
    "                n_user_pref = anime_count.get(anime_id, 0)  # Get the total count of users who have watched this anime\n",
    "                recommended_animes.append({\n",
    "                    \"n\": n_user_pref,\n",
    "                    \"anime_name\": anime_name, \n",
    "                    \"Genres\": genre, \n",
    "                    \"Synopsis\": Synopsis\n",
    "                })\n",
    "            except:\n",
    "                pass\n",
    "    return pd.DataFrame(recommended_animes)"
   ]
  },
  {
   "cell_type": "code",
   "execution_count": null,
   "id": "84fa7a9b",
   "metadata": {
    "execution": {
     "iopub.execute_input": "2023-07-28T06:12:18.378980Z",
     "iopub.status.busy": "2023-07-28T06:12:18.378622Z",
     "iopub.status.idle": "2023-07-28T06:12:19.148725Z",
     "shell.execute_reply": "2023-07-28T06:12:19.147482Z"
    },
    "papermill": {
     "duration": 0.880472,
     "end_time": "2023-07-28T06:12:19.151661",
     "exception": false,
     "start_time": "2023-07-28T06:12:18.271189",
     "status": "completed"
    },
    "tags": []
   },
   "outputs": [
    {
     "name": "stdout",
     "output_type": "stream",
     "text": [
      "\n",
      "> Top recommendations for user: 111\n"
     ]
    },
    {
     "data": {
      "text/html": [
       "<div>\n",
       "<style scoped>\n",
       "    .dataframe tbody tr th:only-of-type {\n",
       "        vertical-align: middle;\n",
       "    }\n",
       "\n",
       "    .dataframe tbody tr th {\n",
       "        vertical-align: top;\n",
       "    }\n",
       "\n",
       "    .dataframe thead th {\n",
       "        text-align: right;\n",
       "    }\n",
       "</style>\n",
       "<table border=\"1\" class=\"dataframe\">\n",
       "  <thead>\n",
       "    <tr style=\"text-align: right;\">\n",
       "      <th></th>\n",
       "      <th>n</th>\n",
       "      <th>anime_name</th>\n",
       "      <th>Genres</th>\n",
       "      <th>Synopsis</th>\n",
       "    </tr>\n",
       "  </thead>\n",
       "  <tbody>\n",
       "    <tr>\n",
       "      <th>0</th>\n",
       "      <td>34</td>\n",
       "      <td>Azumanga Daiou The Animation</td>\n",
       "      <td>Comedy, Slice of Life</td>\n",
       "      <td>Chiyo Mihama begins her high school career as one of the strangest students in her freshman class—a tiny, 10-year-old academic prodigy with a fondness for plush dolls and homemade cooking. But her homeroom teacher, Yukari Tanizaki, is the kind of person who would hijack a student's bike to avoid being late, so \"strange\" is a relative word.\\n\\nThere certainly isn't a shortage of peculiar girls in Yukari-sensei's homeroom class. Accompanying Chiyo are students like Tomo Takino, an energetic tomboy with more enthusiasm than brains; Koyomi Mizuhara, Tomo's best friend whose temper has a fuse shorter than Chiyo; and Sakaki, a tall, athletic beauty whose intimidating looks hide a gentle personality and a painful obsession with cats. In addition, transfer student Ayumu Kasuga, a girl with her head stuck in the clouds, fits right in with the rest of the girls—and she has a few interesting theories about Chiyo's pigtails!\\n\\nTogether, this lovable group of girls experience the ups and downs of school life, their many adventures filled with constant laughter, surreal absurdity, and occasionally even touching commentary on the bittersweet, temporal nature of high school.</td>\n",
       "    </tr>\n",
       "    <tr>\n",
       "      <th>1</th>\n",
       "      <td>27</td>\n",
       "      <td>Howl no Ugoku Shiro</td>\n",
       "      <td>Adventure, Award Winning, Drama, Fantasy, Romance</td>\n",
       "      <td>That jumbled piece of architecture, that cacophony of hissing steam and creaking joints, with smoke billowing from it as it moves on its own... That castle is home to the magnificent wizard Howl, infamous for both his magical prowess and for being a womanizer—or so the rumor goes in Sophie Hatter's small town. Sophie, as the plain daughter of a hatmaker, does not expect much from her future and is content with working hard in the shop. \\n\\nHowever, Sophie's simple life takes a turn for the exciting when she is ensnared in a disturbing situation, and the mysterious wizard appears to rescue her. Unfortunately, this encounter, brief as it may be, spurs the vain and vengeful Witch of the Waste—in a fit of jealousy caused by a past discord with Howl—to put a curse on the maiden, turning her into an old woman.\\n\\nIn an endeavor to return to normal, Sophie must accompany Howl and a myriad of eccentric companions—ranging from a powerful fire demon to a hopping scarecrow—in his living castle, on a dangerous adventure as a raging war tears their kingdom apart.</td>\n",
       "    </tr>\n",
       "    <tr>\n",
       "      <th>2</th>\n",
       "      <td>46</td>\n",
       "      <td>Naruto</td>\n",
       "      <td>Action, Adventure, Fantasy</td>\n",
       "      <td>Moments prior to Naruto Uzumaki's birth, a huge demon known as the Kyuubi, the Nine-Tailed Fox, attacked Konohagakure, the Hidden Leaf Village, and wreaked havoc. In order to put an end to the Kyuubi's rampage, the leader of the village, the Fourth Hokage, sacrificed his life and sealed the monstrous beast inside the newborn Naruto.\\n\\nNow, Naruto is a hyperactive and knuckle-headed ninja still living in Konohagakure. Shunned because of the Kyuubi inside him, Naruto struggles to find his place in the village, while his burning desire to become the Hokage of Konohagakure leads him not only to some great new friends, but also some deadly foes.</td>\n",
       "    </tr>\n",
       "    <tr>\n",
       "      <th>3</th>\n",
       "      <td>16</td>\n",
       "      <td>Shaman King</td>\n",
       "      <td>Action, Adventure, Comedy, Supernatural</td>\n",
       "      <td>A battle is about to begin in Tokyo: the Shaman Fight, a tournament held every five hundred years where shaman—those who can command spirits—confront each other in combat. The victor of this contest becomes the Shaman King and the only one who is able to contact and control the Great Spirit, allowing them to reshape the world as they please through its immense power.\\n\\nDuring a late night walk, Manta Oyamada runs into his classmate, the carefree You Asakura, who invites him to come stargazing with some friends, who, to Manta's horror, turn out to be ghosts from a local cemetery! However, the knowledge that Manta possesses—a rare sixth sense that allows Manta to see these spirits—endears the boy to You. So when You finds out that his new comrade has been beaten up by a local gang, he decides to avenge him with the help of Amidamaru, a samurai ghost whose tomb was broken by the gang leader. \\n\\nSoon Manta uncovers more about the world of spirits, including the Shaman Fight, in which his new friend You aims to claim victory.</td>\n",
       "    </tr>\n",
       "    <tr>\n",
       "      <th>4</th>\n",
       "      <td>34</td>\n",
       "      <td>Final Fantasy VII: Advent Children</td>\n",
       "      <td>Action, Fantasy</td>\n",
       "      <td>Two years ago, the world was changed forever. The young Cloud Strife and his band of friends may have defeated Sephiroth and thwarted his plan to crash a giant meteor into the Earth, but this victory was not without great cost. The highly populated city of Midgar was nearly ripped apart in the conflict. Fortunately, many of the city's citizens were able to evacuate to safety, and in the years afterward have formed a new home called Edge.\\n\\nFinal Fantasy VII: Advent Children revolves around Cloud and Tifa as they try to make new lives for themselves, as well as for those around them, in this new city. Together they run a courier service, and tend to their mutual friend Barret’s adopted daughter Marlene and a young orphan by the name of Denzel. Denzel, Cloud, and scores of children are suffering from a mysterious new illness called \"Geostigma.\"\\n\\nThe children of the city have one other threat looming over their heads—a trio of powerful men are kidnapping infected kids for unknown reasons. Cloud is determined to save these young ones, not only from Geostigma, but from the kidnappers as well. He has no idea, however, that these men share a link to his old enemy, Sephiroth, and Cloud’s quest to vanquish them will bring him back into conflict with the demons of his past. If there is any hope in conquering these threats, it lays within the bonds of friendship between Cloud and his allies who saved the world once, and now must do so again.</td>\n",
       "    </tr>\n",
       "    <tr>\n",
       "      <th>5</th>\n",
       "      <td>42</td>\n",
       "      <td>Bleach</td>\n",
       "      <td>Action, Adventure, Fantasy</td>\n",
       "      <td>Ichigo Kurosaki is an ordinary high schooler—until his family is attacked by a Hollow, a corrupt spirit that seeks to devour human souls. It is then that he meets a Soul Reaper named Rukia Kuchiki, who gets injured while protecting Ichigo's family from the assailant. To save his family, Ichigo accepts Rukia's offer of taking her powers and becomes a Soul Reaper as a result.\\n\\nHowever, as Rukia is unable to regain her powers, Ichigo is given the daunting task of hunting down the Hollows that plague their town. However, he is not alone in his fight, as he is later joined by his friends—classmates Orihime Inoue, Yasutora Sado, and Uryuu Ishida—who each have their own unique abilities. As Ichigo and his comrades get used to their new duties and support each other on and off the battlefield, the young Soul Reaper soon learns that the Hollows are not the only real threat to the human world.</td>\n",
       "    </tr>\n",
       "    <tr>\n",
       "      <th>6</th>\n",
       "      <td>33</td>\n",
       "      <td>Fullmetal Alchemist: The Conqueror of Shamballa</td>\n",
       "      <td>Award Winning, Comedy, Drama, Fantasy</td>\n",
       "      <td>In desperation, Edward Elric sacrificed his body and soul to rescue his brother Alphonse, and is now displaced in the heart of Munich, Germany. He struggles to adapt to a world completely foreign to him in the wake of the economic crisis that followed the end of World War I. Isolated and unable to return home with his alchemy skills, Edward continues to research other methods of escaping the prison alongside colleagues who bear striking resemblances to many of the people he left behind. As dissent brews among the German citizenry, its neighbors also feel the unrest of the humiliated nation.\\n\\nMeanwhile, Alphonse continues to investigate Edward's disappearance, delving into the science of alchemy in the hopes of finally reuniting with his older brother.</td>\n",
       "    </tr>\n",
       "    <tr>\n",
       "      <th>7</th>\n",
       "      <td>39</td>\n",
       "      <td>Cowboy Bebop</td>\n",
       "      <td>Action, Award Winning, Sci-Fi</td>\n",
       "      <td>Crime is timeless. By the year 2071, humanity has expanded across the galaxy, filling the surface of other planets with settlements like those on Earth. These new societies are plagued by murder, drug use, and theft, and intergalactic outlaws are hunted by a growing number of tough bounty hunters.\\n\\nSpike Spiegel and Jet Black pursue criminals throughout space to make a humble living. Beneath his goofy and aloof demeanor, Spike is haunted by the weight of his violent past. Meanwhile, Jet manages his own troubled memories while taking care of Spike and the Bebop, their ship. The duo is joined by the beautiful con artist Faye Valentine, odd child Edward Wong Hau Pepelu Tivrusky IV, and Ein, a bioengineered Welsh Corgi.\\n\\nWhile developing bonds and working to catch a colorful cast of criminals, the Bebop crew's lives are disrupted by a menace from Spike's past. As a rival's maniacal plot continues to unravel, Spike must choose between life with his newfound family or revenge for his old wounds.</td>\n",
       "    </tr>\n",
       "    <tr>\n",
       "      <th>8</th>\n",
       "      <td>31</td>\n",
       "      <td>Trigun</td>\n",
       "      <td>Action, Adventure, Sci-Fi</td>\n",
       "      <td>Vash the Stampede is the man with a $$60,000,000,000 bounty on his head. The reason: he's a merciless villain who lays waste to all those that oppose him and flattens entire cities for fun, garnering him the title \"The Humanoid Typhoon.\" He leaves a trail of death and destruction wherever he goes, and anyone can count themselves dead if they so much as make eye contact—or so the rumors say. In actuality, Vash is a huge softie who claims to have never taken a life and avoids violence at all costs.\\n\\nWith his crazy doughnut obsession and buffoonish attitude in tow, Vash traverses the wasteland of the planet Gunsmoke, all the while followed by two insurance agents, Meryl Stryfe and Milly Thompson, who attempt to minimize his impact on the public. But soon, their misadventures evolve into life-or-death situations as a group of legendary assassins are summoned to bring about suffering to the trio. Vash's agonizing past will be unraveled and his morality and principles pushed to the breaking point.</td>\n",
       "    </tr>\n",
       "    <tr>\n",
       "      <th>9</th>\n",
       "      <td>23</td>\n",
       "      <td>Fullmetal Alchemist: Brotherhood</td>\n",
       "      <td>Action, Adventure, Drama, Fantasy</td>\n",
       "      <td>After a horrific alchemy experiment goes wrong in the Elric household, brothers Edward and Alphonse are left in a catastrophic new reality. Ignoring the alchemical principle banning human transmutation, the boys attempted to bring their recently deceased mother back to life. Instead, they suffered brutal personal loss: Alphonse's body disintegrated while Edward lost a leg and then sacrificed an arm to keep Alphonse's soul in the physical realm by binding it to a hulking suit of armor.\\n\\nThe brothers are rescued by their neighbor Pinako Rockbell and her granddaughter Winry. Known as a bio-mechanical engineering prodigy, Winry creates prosthetic limbs for Edward by utilizing \"automail,\" a tough, versatile metal used in robots and combat armor. After years of training, the Elric brothers set off on a quest to restore their bodies by locating the Philosopher's Stone—a powerful gem that allows an alchemist to defy the traditional laws of Equivalent Exchange.\\n\\nAs Edward becomes an infamous alchemist and gains the nickname \"Fullmetal,\" the boys' journey embroils them in a growing conspiracy that threatens the fate of the world.</td>\n",
       "    </tr>\n",
       "  </tbody>\n",
       "</table>\n",
       "</div>"
      ],
      "text/plain": [
       "    n                                       anime_name  \\\n",
       "0  34                     Azumanga Daiou The Animation   \n",
       "1  27                              Howl no Ugoku Shiro   \n",
       "2  46                                           Naruto   \n",
       "3  16                                      Shaman King   \n",
       "4  34               Final Fantasy VII: Advent Children   \n",
       "5  42                                           Bleach   \n",
       "6  33  Fullmetal Alchemist: The Conqueror of Shamballa   \n",
       "7  39                                     Cowboy Bebop   \n",
       "8  31                                           Trigun   \n",
       "9  23                 Fullmetal Alchemist: Brotherhood   \n",
       "\n",
       "                                              Genres  \\\n",
       "0                              Comedy, Slice of Life   \n",
       "1  Adventure, Award Winning, Drama, Fantasy, Romance   \n",
       "2                         Action, Adventure, Fantasy   \n",
       "3            Action, Adventure, Comedy, Supernatural   \n",
       "4                                    Action, Fantasy   \n",
       "5                         Action, Adventure, Fantasy   \n",
       "6              Award Winning, Comedy, Drama, Fantasy   \n",
       "7                      Action, Award Winning, Sci-Fi   \n",
       "8                          Action, Adventure, Sci-Fi   \n",
       "9                  Action, Adventure, Drama, Fantasy   \n",
       "\n",
       "                                                                                                                                                                                                                                                                                                                                                                                                                                                                                                                                                                                                                                                                                                                                                                                                                                                                                                                                                                                                                                                                                                                                                                                                                                                                                                                                                                                                                                                                                                            Synopsis  \n",
       "0                                                                                                                                                                                                                                                                                         Chiyo Mihama begins her high school career as one of the strangest students in her freshman class—a tiny, 10-year-old academic prodigy with a fondness for plush dolls and homemade cooking. But her homeroom teacher, Yukari Tanizaki, is the kind of person who would hijack a student's bike to avoid being late, so \"strange\" is a relative word.\\n\\nThere certainly isn't a shortage of peculiar girls in Yukari-sensei's homeroom class. Accompanying Chiyo are students like Tomo Takino, an energetic tomboy with more enthusiasm than brains; Koyomi Mizuhara, Tomo's best friend whose temper has a fuse shorter than Chiyo; and Sakaki, a tall, athletic beauty whose intimidating looks hide a gentle personality and a painful obsession with cats. In addition, transfer student Ayumu Kasuga, a girl with her head stuck in the clouds, fits right in with the rest of the girls—and she has a few interesting theories about Chiyo's pigtails!\\n\\nTogether, this lovable group of girls experience the ups and downs of school life, their many adventures filled with constant laughter, surreal absurdity, and occasionally even touching commentary on the bittersweet, temporal nature of high school.  \n",
       "1                                                                                                                                                                                                                                                                                                                                                                                                         That jumbled piece of architecture, that cacophony of hissing steam and creaking joints, with smoke billowing from it as it moves on its own... That castle is home to the magnificent wizard Howl, infamous for both his magical prowess and for being a womanizer—or so the rumor goes in Sophie Hatter's small town. Sophie, as the plain daughter of a hatmaker, does not expect much from her future and is content with working hard in the shop. \\n\\nHowever, Sophie's simple life takes a turn for the exciting when she is ensnared in a disturbing situation, and the mysterious wizard appears to rescue her. Unfortunately, this encounter, brief as it may be, spurs the vain and vengeful Witch of the Waste—in a fit of jealousy caused by a past discord with Howl—to put a curse on the maiden, turning her into an old woman.\\n\\nIn an endeavor to return to normal, Sophie must accompany Howl and a myriad of eccentric companions—ranging from a powerful fire demon to a hopping scarecrow—in his living castle, on a dangerous adventure as a raging war tears their kingdom apart.  \n",
       "2                                                                                                                                                                                                                                                                                                                                                                                                                                                                                                                                                                                                                                                                                                                                                                                                                                          Moments prior to Naruto Uzumaki's birth, a huge demon known as the Kyuubi, the Nine-Tailed Fox, attacked Konohagakure, the Hidden Leaf Village, and wreaked havoc. In order to put an end to the Kyuubi's rampage, the leader of the village, the Fourth Hokage, sacrificed his life and sealed the monstrous beast inside the newborn Naruto.\\n\\nNow, Naruto is a hyperactive and knuckle-headed ninja still living in Konohagakure. Shunned because of the Kyuubi inside him, Naruto struggles to find his place in the village, while his burning desire to become the Hokage of Konohagakure leads him not only to some great new friends, but also some deadly foes.  \n",
       "3                                                                                                                                                                                                                                                                                                                                                                                                                                     A battle is about to begin in Tokyo: the Shaman Fight, a tournament held every five hundred years where shaman—those who can command spirits—confront each other in combat. The victor of this contest becomes the Shaman King and the only one who is able to contact and control the Great Spirit, allowing them to reshape the world as they please through its immense power.\\n\\nDuring a late night walk, Manta Oyamada runs into his classmate, the carefree You Asakura, who invites him to come stargazing with some friends, who, to Manta's horror, turn out to be ghosts from a local cemetery! However, the knowledge that Manta possesses—a rare sixth sense that allows Manta to see these spirits—endears the boy to You. So when You finds out that his new comrade has been beaten up by a local gang, he decides to avenge him with the help of Amidamaru, a samurai ghost whose tomb was broken by the gang leader. \\n\\nSoon Manta uncovers more about the world of spirits, including the Shaman Fight, in which his new friend You aims to claim victory.  \n",
       "4  Two years ago, the world was changed forever. The young Cloud Strife and his band of friends may have defeated Sephiroth and thwarted his plan to crash a giant meteor into the Earth, but this victory was not without great cost. The highly populated city of Midgar was nearly ripped apart in the conflict. Fortunately, many of the city's citizens were able to evacuate to safety, and in the years afterward have formed a new home called Edge.\\n\\nFinal Fantasy VII: Advent Children revolves around Cloud and Tifa as they try to make new lives for themselves, as well as for those around them, in this new city. Together they run a courier service, and tend to their mutual friend Barret’s adopted daughter Marlene and a young orphan by the name of Denzel. Denzel, Cloud, and scores of children are suffering from a mysterious new illness called \"Geostigma.\"\\n\\nThe children of the city have one other threat looming over their heads—a trio of powerful men are kidnapping infected kids for unknown reasons. Cloud is determined to save these young ones, not only from Geostigma, but from the kidnappers as well. He has no idea, however, that these men share a link to his old enemy, Sephiroth, and Cloud’s quest to vanquish them will bring him back into conflict with the demons of his past. If there is any hope in conquering these threats, it lays within the bonds of friendship between Cloud and his allies who saved the world once, and now must do so again.  \n",
       "5                                                                                                                                                                                                                                                                                                                                                                                                                                                                                                                                                                                 Ichigo Kurosaki is an ordinary high schooler—until his family is attacked by a Hollow, a corrupt spirit that seeks to devour human souls. It is then that he meets a Soul Reaper named Rukia Kuchiki, who gets injured while protecting Ichigo's family from the assailant. To save his family, Ichigo accepts Rukia's offer of taking her powers and becomes a Soul Reaper as a result.\\n\\nHowever, as Rukia is unable to regain her powers, Ichigo is given the daunting task of hunting down the Hollows that plague their town. However, he is not alone in his fight, as he is later joined by his friends—classmates Orihime Inoue, Yasutora Sado, and Uryuu Ishida—who each have their own unique abilities. As Ichigo and his comrades get used to their new duties and support each other on and off the battlefield, the young Soul Reaper soon learns that the Hollows are not the only real threat to the human world.  \n",
       "6                                                                                                                                                                                                                                                                                                                                                                                                                                                                                                                                                                                                                                                                                                                        In desperation, Edward Elric sacrificed his body and soul to rescue his brother Alphonse, and is now displaced in the heart of Munich, Germany. He struggles to adapt to a world completely foreign to him in the wake of the economic crisis that followed the end of World War I. Isolated and unable to return home with his alchemy skills, Edward continues to research other methods of escaping the prison alongside colleagues who bear striking resemblances to many of the people he left behind. As dissent brews among the German citizenry, its neighbors also feel the unrest of the humiliated nation.\\n\\nMeanwhile, Alphonse continues to investigate Edward's disappearance, delving into the science of alchemy in the hopes of finally reuniting with his older brother.  \n",
       "7                                                                                                                                                                                                                                                                                                                                                                                                                                                                   Crime is timeless. By the year 2071, humanity has expanded across the galaxy, filling the surface of other planets with settlements like those on Earth. These new societies are plagued by murder, drug use, and theft, and intergalactic outlaws are hunted by a growing number of tough bounty hunters.\\n\\nSpike Spiegel and Jet Black pursue criminals throughout space to make a humble living. Beneath his goofy and aloof demeanor, Spike is haunted by the weight of his violent past. Meanwhile, Jet manages his own troubled memories while taking care of Spike and the Bebop, their ship. The duo is joined by the beautiful con artist Faye Valentine, odd child Edward Wong Hau Pepelu Tivrusky IV, and Ein, a bioengineered Welsh Corgi.\\n\\nWhile developing bonds and working to catch a colorful cast of criminals, the Bebop crew's lives are disrupted by a menace from Spike's past. As a rival's maniacal plot continues to unravel, Spike must choose between life with his newfound family or revenge for his old wounds.  \n",
       "8                                                                                                                                                                                                                                                                                                                                                                                                                                                                   Vash the Stampede is the man with a $$60,000,000,000 bounty on his head. The reason: he's a merciless villain who lays waste to all those that oppose him and flattens entire cities for fun, garnering him the title \"The Humanoid Typhoon.\" He leaves a trail of death and destruction wherever he goes, and anyone can count themselves dead if they so much as make eye contact—or so the rumors say. In actuality, Vash is a huge softie who claims to have never taken a life and avoids violence at all costs.\\n\\nWith his crazy doughnut obsession and buffoonish attitude in tow, Vash traverses the wasteland of the planet Gunsmoke, all the while followed by two insurance agents, Meryl Stryfe and Milly Thompson, who attempt to minimize his impact on the public. But soon, their misadventures evolve into life-or-death situations as a group of legendary assassins are summoned to bring about suffering to the trio. Vash's agonizing past will be unraveled and his morality and principles pushed to the breaking point.  \n",
       "9                                                                                                                                                                                                                                                                                                                              After a horrific alchemy experiment goes wrong in the Elric household, brothers Edward and Alphonse are left in a catastrophic new reality. Ignoring the alchemical principle banning human transmutation, the boys attempted to bring their recently deceased mother back to life. Instead, they suffered brutal personal loss: Alphonse's body disintegrated while Edward lost a leg and then sacrificed an arm to keep Alphonse's soul in the physical realm by binding it to a hulking suit of armor.\\n\\nThe brothers are rescued by their neighbor Pinako Rockbell and her granddaughter Winry. Known as a bio-mechanical engineering prodigy, Winry creates prosthetic limbs for Edward by utilizing \"automail,\" a tough, versatile metal used in robots and combat armor. After years of training, the Elric brothers set off on a quest to restore their bodies by locating the Philosopher's Stone—a powerful gem that allows an alchemist to defy the traditional laws of Equivalent Exchange.\\n\\nAs Edward becomes an infamous alchemist and gains the nickname \"Fullmetal,\" the boys' journey embroils them in a growing conspiracy that threatens the fate of the world.  "
      ]
     },
     "execution_count": 28,
     "metadata": {},
     "output_type": "execute_result"
    }
   ],
   "source": [
    "# Get recommended animes for the random user\n",
    "recommended_animes = get_recommended_animes(similar_users, user_pref, n=10)\n",
    "\n",
    "print('\\n> Top recommendations for user: {}'.format(input_user))\n",
    "recommended_animes"
   ]
  }
 ],
 "metadata": {
  "kernelspec": {
   "display_name": "tf27",
   "language": "python",
   "name": "python3"
  },
  "language_info": {
   "codemirror_mode": {
    "name": "ipython",
    "version": 3
   },
   "file_extension": ".py",
   "mimetype": "text/x-python",
   "name": "python",
   "nbconvert_exporter": "python",
   "pygments_lexer": "ipython3",
   "version": "3.9.18"
  },
  "papermill": {
   "default_parameters": {},
   "duration": 227.675184,
   "end_time": "2023-07-28T06:12:41.680415",
   "environment_variables": {},
   "exception": null,
   "input_path": "__notebook__.ipynb",
   "output_path": "__notebook__.ipynb",
   "parameters": {},
   "start_time": "2023-07-28T06:08:54.005231",
   "version": "2.4.0"
  }
 },
 "nbformat": 4,
 "nbformat_minor": 5
}
