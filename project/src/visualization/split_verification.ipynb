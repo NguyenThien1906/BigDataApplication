{
  "cells": [
    {
      "cell_type": "code",
      "execution_count": 1,
      "metadata": {
        "colab": {
          "base_uri": "https://localhost:8080/"
        },
        "id": "ENWUKxaxQQTa",
        "outputId": "51e417f6-72df-4c64-ffcd-32351e6a61cb"
      },
      "outputs": [
        {
          "output_type": "stream",
          "name": "stdout",
          "text": [
            "Get:1 http://security.ubuntu.com/ubuntu jammy-security InRelease [129 kB]\n",
            "Hit:2 http://archive.ubuntu.com/ubuntu jammy InRelease\n",
            "Get:3 https://cloud.r-project.org/bin/linux/ubuntu jammy-cran40/ InRelease [3,632 B]\n",
            "Get:4 https://developer.download.nvidia.com/compute/cuda/repos/ubuntu2204/x86_64  InRelease [1,581 B]\n",
            "Get:5 https://r2u.stat.illinois.edu/ubuntu jammy InRelease [6,555 B]\n",
            "Get:6 http://archive.ubuntu.com/ubuntu jammy-updates InRelease [128 kB]\n",
            "Hit:7 https://ppa.launchpadcontent.net/deadsnakes/ppa/ubuntu jammy InRelease\n",
            "Get:8 http://archive.ubuntu.com/ubuntu jammy-backports InRelease [127 kB]\n",
            "Get:9 https://ppa.launchpadcontent.net/graphics-drivers/ppa/ubuntu jammy InRelease [24.3 kB]\n",
            "Hit:10 https://ppa.launchpadcontent.net/ubuntugis/ppa/ubuntu jammy InRelease\n",
            "Get:11 https://developer.download.nvidia.com/compute/cuda/repos/ubuntu2204/x86_64  Packages [1,607 kB]\n",
            "Get:12 https://r2u.stat.illinois.edu/ubuntu jammy/main amd64 Packages [2,704 kB]\n",
            "Get:13 https://r2u.stat.illinois.edu/ubuntu jammy/main all Packages [8,868 kB]\n",
            "Get:14 http://archive.ubuntu.com/ubuntu jammy-updates/main amd64 Packages [3,154 kB]\n",
            "Get:15 http://archive.ubuntu.com/ubuntu jammy-updates/universe amd64 Packages [1,543 kB]\n",
            "Get:16 https://ppa.launchpadcontent.net/graphics-drivers/ppa/ubuntu jammy/main amd64 Packages [47.4 kB]\n",
            "Fetched 18.3 MB in 6s (3,130 kB/s)\n",
            "Reading package lists... Done\n",
            "W: Skipping acquire of configured file 'main/source/Sources' as repository 'https://r2u.stat.illinois.edu/ubuntu jammy InRelease' does not seem to provide it (sources.list entry misspelt?)\n"
          ]
        }
      ],
      "source": [
        "# install java\n",
        "!apt-get update\n",
        "!apt-get install openjdk-8-jdk-headless -qq > /dev/null\n",
        "# install spark (change the version number if needed)\n",
        "!wget -q https://downloads.apache.org/spark/spark-3.5.5/spark-3.5.5-bin-hadoop3.tgz\n",
        "# unzip the spark file to the current folder\n",
        "!tar xf spark-3.5.5-bin-hadoop3.tgz"
      ]
    },
    {
      "cell_type": "code",
      "execution_count": 1,
      "metadata": {
        "id": "4qGkfkuAQS6r"
      },
      "outputs": [],
      "source": [
        "import os\n",
        "os.environ[\"JAVA_HOME\"] = \"/usr/lib/jvm/java-8-openjdk-amd64\"\n",
        "os.environ[\"SPARK_HOME\"] = \"/content/spark-3.5.5-bin-hadoop3\"\n",
        "\n",
        "os.environ[\"PYARROW_IGNORE_TIMEZONE\"] = \"1\""
      ]
    },
    {
      "cell_type": "code",
      "execution_count": 2,
      "metadata": {
        "colab": {
          "base_uri": "https://localhost:8080/"
        },
        "id": "xC1rokurHUl9",
        "outputId": "9de756e0-6aa5-4183-c76e-7d6c0470cbc9"
      },
      "outputs": [
        {
          "output_type": "stream",
          "name": "stdout",
          "text": [
            "/content/spark-3.5.5-bin-hadoop3\n"
          ]
        }
      ],
      "source": [
        "import os\n",
        "print(os.environ[\"SPARK_HOME\"])"
      ]
    },
    {
      "cell_type": "code",
      "execution_count": 3,
      "metadata": {
        "colab": {
          "base_uri": "https://localhost:8080/"
        },
        "id": "JaqO1_spRFAt",
        "outputId": "0b5ffa50-712d-4ee5-c950-b809c3e2f69b"
      },
      "outputs": [
        {
          "output_type": "stream",
          "name": "stdout",
          "text": [
            "Requirement already satisfied: findspark in /usr/local/lib/python3.11/dist-packages (2.0.1)\n"
          ]
        }
      ],
      "source": [
        "!pip install findspark"
      ]
    },
    {
      "cell_type": "code",
      "execution_count": 4,
      "metadata": {
        "id": "4zdqqc2M7C_D"
      },
      "outputs": [],
      "source": [
        "import findspark\n",
        "findspark.init()"
      ]
    },
    {
      "cell_type": "code",
      "execution_count": 5,
      "metadata": {
        "id": "A_W_PKFZRP6Y"
      },
      "outputs": [],
      "source": [
        "from pyspark.sql import SparkSession\n",
        "spark = SparkSession.builder \\\n",
        "    .appName(\"Anime Recommendations\") \\\n",
        "    .config(\"spark.driver.memory\", \"8g\") \\\n",
        "    .config(\"spark.driver.maxResultSize\", \"2g\") \\\n",
        "    .config(\"spark.executor.memory\", \"8g\") \\\n",
        "    .getOrCreate()"
      ]
    },
    {
      "cell_type": "code",
      "source": [
        "df = spark.read.csv(\"users-score-2023_prep.csv\", header=True, inferSchema=True)"
      ],
      "metadata": {
        "id": "TUia8Qp4bqoM"
      },
      "execution_count": 6,
      "outputs": []
    },
    {
      "cell_type": "code",
      "execution_count": 7,
      "metadata": {
        "colab": {
          "base_uri": "https://localhost:8080/"
        },
        "id": "z4rT3M8A8Hgp",
        "outputId": "0b949c3b-60fd-4b26-90bc-97a614f0e1b2"
      },
      "outputs": [
        {
          "output_type": "execute_result",
          "data": {
            "text/plain": [
              "[('user_id', 'int'), ('anime_id', 'int'), ('rating', 'double')]"
            ]
          },
          "metadata": {},
          "execution_count": 7
        }
      ],
      "source": [
        "df.dtypes"
      ]
    },
    {
      "cell_type": "code",
      "execution_count": 8,
      "metadata": {
        "colab": {
          "base_uri": "https://localhost:8080/"
        },
        "id": "09IH816P8Ozk",
        "outputId": "89ea03e7-019a-46d2-ae14-4af06666b8f4"
      },
      "outputs": [
        {
          "output_type": "execute_result",
          "data": {
            "text/plain": [
              "[('user_id', 'int'), ('anime_id', 'int'), ('rating', 'int')]"
            ]
          },
          "metadata": {},
          "execution_count": 8
        }
      ],
      "source": [
        "from pyspark.sql.functions import col, udf\n",
        "from pyspark.sql.types import FloatType, IntegerType\n",
        "\n",
        "df = df.withColumn(\"rating\", col(\"rating\").cast(IntegerType()))\n",
        "df.dtypes"
      ]
    },
    {
      "cell_type": "code",
      "execution_count": 9,
      "metadata": {
        "colab": {
          "base_uri": "https://localhost:8080/"
        },
        "id": "YVwyyrVk7ydY",
        "outputId": "63cdd7c3-e142-4864-8b35-cfb0c2a83868"
      },
      "outputs": [
        {
          "output_type": "stream",
          "name": "stdout",
          "text": [
            "+-------+--------+------+\n",
            "|user_id|anime_id|rating|\n",
            "+-------+--------+------+\n",
            "|      9|     777|     4|\n",
            "|     20|    1519|     9|\n",
            "|     20|     121|    10|\n",
            "|     20|    5365|     6|\n",
            "|     23|    5355|     6|\n",
            "|     47|      32|     7|\n",
            "|     47|      24|     9|\n",
            "|     48|    3342|     7|\n",
            "|     48|     329|     7|\n",
            "|     70|    3594|     6|\n",
            "|     80|     121|    10|\n",
            "|     81|   28497|     7|\n",
            "|     88|   48569|    10|\n",
            "|     88|   20583|     9|\n",
            "|    110|   22535|     9|\n",
            "|    110|     585|     7|\n",
            "|    110|     164|     6|\n",
            "|    119|     300|     7|\n",
            "|    119|   11703|     7|\n",
            "|    120|     132|     9|\n",
            "+-------+--------+------+\n",
            "only showing top 20 rows\n",
            "\n"
          ]
        }
      ],
      "source": [
        "df.show()"
      ]
    },
    {
      "cell_type": "code",
      "source": [
        "df.persist()"
      ],
      "metadata": {
        "colab": {
          "base_uri": "https://localhost:8080/"
        },
        "id": "WlBx3BVaxpDK",
        "outputId": "1a5e91fe-7dcd-4d76-8c81-c2383b099cce"
      },
      "execution_count": 14,
      "outputs": [
        {
          "output_type": "execute_result",
          "data": {
            "text/plain": [
              "DataFrame[user_id: int, anime_id: int, rating: int]"
            ]
          },
          "metadata": {},
          "execution_count": 14
        }
      ]
    },
    {
      "cell_type": "code",
      "source": [
        "from pyspark.sql.functions import isnan, col\n",
        "\n",
        "# Remove both null and NaN values\n",
        "cleaned_df = df.filter(\n",
        "    df.rating.isNotNull() &\n",
        "    ~isnan(col(\"rating\"))\n",
        ")"
      ],
      "metadata": {
        "id": "P-qaZKEGVwXb"
      },
      "execution_count": 10,
      "outputs": []
    },
    {
      "cell_type": "code",
      "source": [
        "# Verify the clean dataset\n",
        "print(f\"Original count: {df.count()}\")\n",
        "print(f\"Cleaned count: {cleaned_df.count()}\")"
      ],
      "metadata": {
        "id": "jWcwqYV8f3BU"
      },
      "execution_count": null,
      "outputs": []
    },
    {
      "cell_type": "code",
      "source": [
        "final_df = cleaned_df.select(\"user_id\", \"anime_id\", \"rating\")\n",
        "final_df.show()"
      ],
      "metadata": {
        "colab": {
          "base_uri": "https://localhost:8080/"
        },
        "id": "tO60djvYNJl8",
        "outputId": "c5cd207e-66e2-454a-e5be-e1a4033df0f2"
      },
      "execution_count": 11,
      "outputs": [
        {
          "output_type": "stream",
          "name": "stdout",
          "text": [
            "+-------+--------+------+\n",
            "|user_id|anime_id|rating|\n",
            "+-------+--------+------+\n",
            "|      9|     777|     4|\n",
            "|     20|    1519|     9|\n",
            "|     20|     121|    10|\n",
            "|     20|    5365|     6|\n",
            "|     23|    5355|     6|\n",
            "|     47|      32|     7|\n",
            "|     47|      24|     9|\n",
            "|     48|    3342|     7|\n",
            "|     48|     329|     7|\n",
            "|     70|    3594|     6|\n",
            "|     80|     121|    10|\n",
            "|     81|   28497|     7|\n",
            "|     88|   48569|    10|\n",
            "|     88|   20583|     9|\n",
            "|    110|   22535|     9|\n",
            "|    110|     585|     7|\n",
            "|    110|     164|     6|\n",
            "|    119|     300|     7|\n",
            "|    119|   11703|     7|\n",
            "|    120|     132|     9|\n",
            "+-------+--------+------+\n",
            "only showing top 20 rows\n",
            "\n"
          ]
        }
      ]
    },
    {
      "cell_type": "code",
      "source": [
        "final_df.persist()"
      ],
      "metadata": {
        "colab": {
          "base_uri": "https://localhost:8080/"
        },
        "id": "s1xfrlZPgIi9",
        "outputId": "3669588d-a4d9-4d9e-e3e3-883bdaeaa322"
      },
      "execution_count": 12,
      "outputs": [
        {
          "output_type": "execute_result",
          "data": {
            "text/plain": [
              "DataFrame[user_id: int, anime_id: int, rating: int]"
            ]
          },
          "metadata": {},
          "execution_count": 12
        }
      ]
    },
    {
      "cell_type": "code",
      "source": [
        "(train_df, val_df,test_df) = final_df.randomSplit([0.7, 0.05, 0.25], seed=42)\n"
      ],
      "metadata": {
        "id": "6KF8JxlPcPUP"
      },
      "execution_count": 13,
      "outputs": []
    },
    {
      "cell_type": "markdown",
      "source": [
        "Check Basic Split Sizes"
      ],
      "metadata": {
        "id": "Bh6U_aL4GVHT"
      }
    },
    {
      "cell_type": "code",
      "source": [
        "print(f\"Train count: {train_df.count()}\")\n",
        "print(f\"Validation count: {val_df.count()}\")\n",
        "print(f\"Test count: {test_df.count()}\")\n"
      ],
      "metadata": {
        "colab": {
          "base_uri": "https://localhost:8080/"
        },
        "id": "j0Zaq4TbcfYi",
        "outputId": "6e1e2c0c-a19a-4797-9465-581dc44b7b44"
      },
      "execution_count": 14,
      "outputs": [
        {
          "output_type": "stream",
          "name": "stdout",
          "text": [
            "Train count: 17027430\n",
            "Validation count: 1214808\n",
            "Test count: 6079826\n"
          ]
        }
      ]
    },
    {
      "cell_type": "code",
      "source": [
        "!pip install numpy==1.26.4"
      ],
      "metadata": {
        "colab": {
          "base_uri": "https://localhost:8080/"
        },
        "id": "Di1HI9ndcvjH",
        "outputId": "ef63a9bd-72b6-4778-a932-d4fc1dd9d1c9"
      },
      "execution_count": 18,
      "outputs": [
        {
          "output_type": "stream",
          "name": "stdout",
          "text": [
            "Collecting numpy==1.26.4\n",
            "  Downloading numpy-1.26.4-cp311-cp311-manylinux_2_17_x86_64.manylinux2014_x86_64.whl.metadata (61 kB)\n",
            "\u001b[?25l     \u001b[90m━━━━━━━━━━━━━━━━━━━━━━━━━━━━━━━━━━━━━━━━\u001b[0m \u001b[32m0.0/61.0 kB\u001b[0m \u001b[31m?\u001b[0m eta \u001b[36m-:--:--\u001b[0m\r\u001b[2K     \u001b[90m━━━━━━━━━━━━━━━━━━━━━━━━━━━━━━━━━━━━━━━━\u001b[0m \u001b[32m61.0/61.0 kB\u001b[0m \u001b[31m2.5 MB/s\u001b[0m eta \u001b[36m0:00:00\u001b[0m\n",
            "\u001b[?25hDownloading numpy-1.26.4-cp311-cp311-manylinux_2_17_x86_64.manylinux2014_x86_64.whl (18.3 MB)\n",
            "\u001b[2K   \u001b[90m━━━━━━━━━━━━━━━━━━━━━━━━━━━━━━━━━━━━━━━━\u001b[0m \u001b[32m18.3/18.3 MB\u001b[0m \u001b[31m89.2 MB/s\u001b[0m eta \u001b[36m0:00:00\u001b[0m\n",
            "\u001b[?25hInstalling collected packages: numpy\n",
            "  Attempting uninstall: numpy\n",
            "    Found existing installation: numpy 2.0.2\n",
            "    Uninstalling numpy-2.0.2:\n",
            "      Successfully uninstalled numpy-2.0.2\n",
            "\u001b[31mERROR: pip's dependency resolver does not currently take into account all the packages that are installed. This behaviour is the source of the following dependency conflicts.\n",
            "thinc 8.3.6 requires numpy<3.0.0,>=2.0.0, but you have numpy 1.26.4 which is incompatible.\u001b[0m\u001b[31m\n",
            "\u001b[0mSuccessfully installed numpy-1.26.4\n"
          ]
        }
      ]
    },
    {
      "cell_type": "markdown",
      "source": [],
      "metadata": {
        "id": "L6BJPo4hGWyB"
      }
    },
    {
      "cell_type": "code",
      "source": [
        "import matplotlib.pyplot as plt\n",
        "import seaborn as sns\n",
        "\n",
        "train_ratings = train_df.select('rating').toPandas()\n",
        "val_ratings = val_df.select('rating').toPandas()\n",
        "test_ratings = test_df.select('rating').toPandas()\n",
        "\n",
        "plt.figure(figsize=(15, 5))\n",
        "\n",
        "sns.kdeplot(train_ratings['rating'], label='Train', fill=True)\n",
        "sns.kdeplot(val_ratings['rating'], label='Validation', fill=True)\n",
        "sns.kdeplot(test_ratings['rating'], label='Test', fill=True)\n",
        "\n",
        "plt.title('Rating Distribution Across Splits')\n",
        "plt.legend()\n",
        "plt.show()\n"
      ],
      "metadata": {
        "colab": {
          "base_uri": "https://localhost:8080/",
          "height": 487
        },
        "id": "RAp1gt_Fcjxb",
        "outputId": "c666f792-e1df-4ee5-c058-1730e6b17472"
      },
      "execution_count": 16,
      "outputs": [
        {
          "output_type": "display_data",
          "data": {
            "text/plain": [
              "<Figure size 1500x500 with 1 Axes>"
            ],
            "image/png": "[encoded data removed]"
          },
          "metadata": {}
        }
      ]
    },
    {
      "cell_type": "markdown",
      "source": [
        "From the visualization: It can be concluded that  \n",
        "Similar Shape:\n",
        "The Train, Validation, and Test curves almost perfectly overlap each other.\n",
        "\n",
        "Same Peaks:\n",
        "All splits peak at similar rating values (around 6, 7, 8, 9, 10),\n",
        "which means that the important ratings (frequent scores) are preserved across splits.\n",
        "\n",
        "No Major Skew:\n",
        "There's no one split that is heavily biased toward a low or high rating compared to the others.\n",
        "\n",
        "Balanced Low and High Ratings:\n",
        "Even the less frequent ratings (like 1-3) are still present across all three datasets."
      ],
      "metadata": {
        "id": "0aC2xtOuF7I6"
      }
    }
  ],
  "metadata": {
    "colab": {
      "provenance": []
    },
    "kernelspec": {
      "display_name": "Python 3",
      "name": "python3"
    },
    "language_info": {
      "name": "python"
    }
  },
  "nbformat": 4,
  "nbformat_minor": 0
}