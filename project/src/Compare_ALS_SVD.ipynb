{
  "nbformat": 4,
  "nbformat_minor": 0,
  "metadata": {
    "colab": {
      "provenance": []
    },
    "kernelspec": {
      "name": "python3",
      "display_name": "Python 3"
    },
    "language_info": {
      "name": "python"
    }
  },
  "cells": [
    {
      "cell_type": "markdown",
      "source": [
        "**1.Import the necessary libraries**"
      ],
      "metadata": {
        "id": "njMwFVmQM_-V"
      }
    },
    {
      "cell_type": "code",
      "source": [
        "!pip install implicit\n",
        "# !pip uninstall numpy -y\n",
        "# !pip install \"numpy<2.0\"\n",
        "# import os\n",
        "# os.kill(os.getpid(), 9)\n",
        "!pip install surprise"
      ],
      "metadata": {
        "colab": {
          "base_uri": "https://localhost:8080/"
        },
        "id": "vzRCrlWxBlDv",
        "outputId": "4093c86b-e740-436b-81b1-28898b88183e"
      },
      "execution_count": null,
      "outputs": [
        {
          "output_type": "stream",
          "name": "stdout",
          "text": [
            "Requirement already satisfied: implicit in /usr/local/lib/python3.11/dist-packages (0.7.2)\n",
            "Requirement already satisfied: numpy>=1.17.0 in /usr/local/lib/python3.11/dist-packages (from implicit) (1.26.4)\n",
            "Requirement already satisfied: scipy>=0.16 in /usr/local/lib/python3.11/dist-packages (from implicit) (1.14.1)\n",
            "Requirement already satisfied: tqdm>=4.27 in /usr/local/lib/python3.11/dist-packages (from implicit) (4.67.1)\n",
            "Requirement already satisfied: threadpoolctl in /usr/local/lib/python3.11/dist-packages (from implicit) (3.6.0)\n",
            "Requirement already satisfied: surprise in /usr/local/lib/python3.11/dist-packages (0.1)\n",
            "Requirement already satisfied: scikit-surprise in /usr/local/lib/python3.11/dist-packages (from surprise) (1.1.4)\n",
            "Requirement already satisfied: joblib>=1.2.0 in /usr/local/lib/python3.11/dist-packages (from scikit-surprise->surprise) (1.4.2)\n",
            "Requirement already satisfied: numpy>=1.19.5 in /usr/local/lib/python3.11/dist-packages (from scikit-surprise->surprise) (1.26.4)\n",
            "Requirement already satisfied: scipy>=1.6.0 in /usr/local/lib/python3.11/dist-packages (from scikit-surprise->surprise) (1.14.1)\n"
          ]
        }
      ]
    },
    {
      "cell_type": "code",
      "execution_count": null,
      "metadata": {
        "id": "f3UDnigBAmD-"
      },
      "outputs": [],
      "source": [
        "from pyspark.sql import SparkSession\n",
        "from pyspark.ml.recommendation import ALS\n",
        "from pyspark.ml.evaluation import RegressionEvaluator\n",
        "from pyspark.sql.functions import avg\n",
        "from surprise import Reader, Dataset, SVD, accuracy\n",
        "from surprise.model_selection import train_test_split\n",
        "import pandas as pd\n",
        "import scipy.sparse as sparse\n",
        "import implicit\n",
        "import numpy as np\n",
        "from sklearn.metrics import mean_squared_error\n",
        "import warnings\n",
        "warnings.filterwarnings('ignore')\n"
      ]
    },
    {
      "cell_type": "markdown",
      "source": [
        "**2. Create or get a Spark session**"
      ],
      "metadata": {
        "id": "JZJ9UbIGNNwl"
      }
    },
    {
      "cell_type": "code",
      "source": [
        "spark = SparkSession.builder \\\n",
        "    .appName(\"ALS_vs_SVD\")\\\n",
        "    .config(\"spark.driver.memory\", \"4g\") \\\n",
        "    .config(\"spark.executor.memory\", \"4g\") \\\n",
        "    .config(\"spark.sql.shuffle.partitions\", \"50\") \\\n",
        "    .getOrCreate()"
      ],
      "metadata": {
        "id": "BZGsQaOCAsgD"
      },
      "execution_count": null,
      "outputs": []
    },
    {
      "cell_type": "markdown",
      "source": [
        "**3. Load and process data**"
      ],
      "metadata": {
        "id": "0wT3AFLvNX7I"
      }
    },
    {
      "cell_type": "code",
      "source": [
        "rating_df = spark.read.csv('/content/users-score-2023.csv', header=True, inferSchema=True)\n",
        "rating_df = rating_df.select('user_id', 'anime_id', 'rating')"
      ],
      "metadata": {
        "id": "VrYOxne1Auw9"
      },
      "execution_count": null,
      "outputs": []
    },
    {
      "cell_type": "code",
      "source": [
        "from pyspark.sql.functions import isnan, col\n",
        "\n",
        "# Count the number of records that do not have NaN values ​​in the 'rating' column\n",
        "count_nan_df = rating_df.na.drop().filter(~isnan(col('rating'))).count()\n",
        "\n",
        "print(f\"Total entries: {rating_df.count()}\")\n",
        "print(f\"Eligible entries: {count_nan_df}\")\n",
        "print(f\"Ratio of eligible entries: {count_nan_df/rating_df.count()*100}%\")"
      ],
      "metadata": {
        "colab": {
          "base_uri": "https://localhost:8080/"
        },
        "id": "smEBkqqgAu5Z",
        "outputId": "48c7545c-e9ce-43f3-f997-05bb03e1c8a0"
      },
      "execution_count": null,
      "outputs": [
        {
          "output_type": "stream",
          "name": "stdout",
          "text": [
            "Total entries: 10688032\n",
            "Eligible entries: 10688032\n",
            "Ratio of eligible entries: 100.0%\n"
          ]
        }
      ]
    },
    {
      "cell_type": "code",
      "source": [
        "from pyspark.sql.functions import avg\n",
        "rating_df = rating_df.groupBy(\"user_id\", \"anime_id\").agg(avg(\"rating\").alias(\"rating\"))\n",
        "rating_df.persist()"
      ],
      "metadata": {
        "colab": {
          "base_uri": "https://localhost:8080/"
        },
        "id": "v7mY8xQJAvAV",
        "outputId": "c2a6e1ed-1873-409e-80e5-9590b6aff091"
      },
      "execution_count": null,
      "outputs": [
        {
          "output_type": "execute_result",
          "data": {
            "text/plain": [
              "DataFrame[user_id: int, anime_id: int, rating: double]"
            ]
          },
          "metadata": {},
          "execution_count": 7
        }
      ]
    },
    {
      "cell_type": "code",
      "source": [
        "rating_sampled_df = rating_df"
      ],
      "metadata": {
        "id": "1IVEeJ0lAvDa"
      },
      "execution_count": null,
      "outputs": []
    },
    {
      "cell_type": "code",
      "source": [
        "train_df, test_df = rating_sampled_df.randomSplit([0.75, 0.25], seed=42)\n",
        "# Loại bỏ các dòng có giá trị NaN hoặc null trong cột 'rating'\n",
        "train_df = train_df.na.drop(subset=[\"rating\"])\n",
        "test_df = test_df.na.drop(subset=[\"rating\"])\n",
        "\n",
        "# Kiểm tra lại số dòng sau khi làm sạch\n",
        "print(f\"Cleaned train_df count: {train_df.count()}\")\n",
        "print(f\"Cleaned test_df count: {test_df.count()}\")"
      ],
      "metadata": {
        "colab": {
          "base_uri": "https://localhost:8080/"
        },
        "id": "adnzpWOQAvF0",
        "outputId": "d89926f2-f216-4a5a-ece9-f9ff2878f92e"
      },
      "execution_count": null,
      "outputs": [
        {
          "output_type": "stream",
          "name": "stdout",
          "text": [
            "Cleaned train_df count: 8014321\n",
            "Cleaned test_df count: 2672423\n"
          ]
        }
      ]
    },
    {
      "cell_type": "markdown",
      "source": [
        "**4. Training the ALS model**"
      ],
      "metadata": {
        "id": "FRtGJOsROH6C"
      }
    },
    {
      "cell_type": "code",
      "source": [
        "# Cell 5:\n",
        "als = ALS(\n",
        "    userCol=\"user_id\",\n",
        "    itemCol=\"anime_id\",\n",
        "    ratingCol=\"rating\",\n",
        "    nonnegative=True,\n",
        "    implicitPrefs=False,\n",
        "    coldStartStrategy=\"drop\",\n",
        "    maxIter=10,\n",
        "    rank=50,\n",
        "    regParam=0.1\n",
        ")\n",
        "\n",
        "als_model = als.fit(train_df)\n",
        "\n",
        "# Dự đoán trên tập validation\n",
        "test_predictions = als_model.transform(test_df)\n",
        "\n",
        "# Tính RMSE trên validation\n",
        "evaluator = RegressionEvaluator(metricName=\"rmse\", labelCol=\"rating\", predictionCol=\"prediction\")\n",
        "test_rmse_als = evaluator.evaluate(test_predictions)\n",
        "\n",
        "print(f\"ALS Validation RMSE = {test_rmse_als:.4f}\")\n"
      ],
      "metadata": {
        "colab": {
          "base_uri": "https://localhost:8080/"
        },
        "id": "QsWUrUBhAvIb",
        "outputId": "223e90d9-92de-4288-87cf-e4a49ae96900"
      },
      "execution_count": null,
      "outputs": [
        {
          "output_type": "stream",
          "name": "stdout",
          "text": [
            "ALS Validation RMSE = 1.2383\n"
          ]
        }
      ]
    },
    {
      "cell_type": "markdown",
      "source": [
        "**5. Prepare Data for Surprise**"
      ],
      "metadata": {
        "id": "idN4oAtdM5QT"
      }
    },
    {
      "cell_type": "code",
      "source": [
        "# Define a Reader to specify the format of your data.\n",
        "# Assume ratings are in the range 1-10 (adjust if needed).\n",
        "reader = Reader(rating_scale=(1, 10))\n",
        "train_pd = train_df.toPandas()\n",
        "test_pd = test_df.toPandas()\n",
        "# Load the data from the Pandas DataFrames.  Surprise needs specific column names.\n",
        "train_surprise = Dataset.load_from_df(train_pd[['user_id', 'anime_id', 'rating']], reader)\n",
        "test_surprise = Dataset.load_from_df(test_pd[['user_id', 'anime_id', 'rating']], reader)\n"
      ],
      "metadata": {
        "id": "P21dJ8J9A52l"
      },
      "execution_count": null,
      "outputs": []
    },
    {
      "cell_type": "markdown",
      "source": [
        "**6. Train SVD Model**"
      ],
      "metadata": {
        "id": "mZ82Yj59M019"
      }
    },
    {
      "cell_type": "code",
      "source": [
        "# Initialize the SVD model.  You can tune parameters like n_factors (number of factors).\n",
        "svd = SVD(n_factors=50, random_state=42)  # Using the same number of factors as ALS for comparison\n",
        "\n",
        "# Train the SVD model on the training set.\n",
        "trainset = train_surprise.build_full_trainset()\n",
        "svd.fit(trainset)"
      ],
      "metadata": {
        "colab": {
          "base_uri": "https://localhost:8080/"
        },
        "id": "09Plz-s9A-Ol",
        "outputId": "01bc048c-527e-43cd-d276-d4f0868a2698"
      },
      "execution_count": null,
      "outputs": [
        {
          "output_type": "execute_result",
          "data": {
            "text/plain": [
              "<surprise.prediction_algorithms.matrix_factorization.SVD at 0x7f66056931d0>"
            ]
          },
          "metadata": {},
          "execution_count": 13
        }
      ]
    },
    {
      "cell_type": "markdown",
      "source": [
        "**7. Evaluate SVD**"
      ],
      "metadata": {
        "id": "BNVozc2-Mum_"
      }
    },
    {
      "cell_type": "code",
      "source": [
        "# Make predictions on the test set.\n",
        "testset = list(test_surprise.build_full_trainset().build_testset())\n",
        "predictions = svd.test(testset)\n",
        "\n",
        "# Calculate RMSE.\n",
        "rmse_svd = accuracy.rmse(predictions)\n",
        "\n",
        "print(f\"SVD Test RMSE: {rmse_svd:.4f}\")"
      ],
      "metadata": {
        "colab": {
          "base_uri": "https://localhost:8080/"
        },
        "id": "PgAKCpapA-Q3",
        "outputId": "163ce720-722f-4076-be76-0ff3e7fdbd8e"
      },
      "execution_count": null,
      "outputs": [
        {
          "output_type": "stream",
          "name": "stdout",
          "text": [
            "RMSE: 1.2424\n",
            "SVD Test RMSE: 1.2424\n"
          ]
        }
      ]
    },
    {
      "cell_type": "markdown",
      "source": [
        "**8. Comparison RMSE between ALS and SVD**"
      ],
      "metadata": {
        "id": "w4zcjMvCMl3k"
      }
    },
    {
      "cell_type": "code",
      "source": [
        "import matplotlib.pyplot as plt\n",
        "\n",
        "models = ['ALS', 'SVD']\n",
        "rmse_values = [test_rmse_als, rmse_svd]\n",
        "\n",
        "# Create the bar chart\n",
        "plt.figure(figsize=(8, 5))\n",
        "plt.bar(models, rmse_values, color=['blue', 'green'])\n",
        "plt.xlabel(\"Model\")\n",
        "plt.ylabel(\"RMSE\")\n",
        "plt.title(\"RMSE Comparison: ALS vs. SVD\")\n",
        "plt.ylim(min(rmse_values) * 0.95, max(rmse_values) * 1.05)\n",
        "\n",
        "# Add the values on top of the bars\n",
        "for i, value in enumerate(rmse_values):\n",
        "    plt.text(i, value + 0.01, f\"{value:.4f}\", ha='center', va='bottom')\n",
        "\n",
        "plt.show()\n",
        "\n",
        "# Optional: Textual comparison\n",
        "if test_rmse_als < rmse_svd:\n",
        "    print(\"ALS performs better than SVD on RMSE\")\n",
        "elif rmse_svd < test_rmse_als:\n",
        "    print(\"SVD performs better than ALS on RMSE\")\n",
        "else:\n",
        "    print(\"ALS and SVD perform equally well on RMSE\")"
      ],
      "metadata": {
        "colab": {
          "base_uri": "https://localhost:8080/",
          "height": 504
        },
        "id": "wOPujFsQA-S4",
        "outputId": "e9e137d4-ade7-4c12-b37c-cc38ad124320"
      },
      "execution_count": null,
      "outputs": [
        {
          "output_type": "display_data",
          "data": {
            "text/plain": [
              "<Figure size 800x500 with 1 Axes>"
            ],
            "image/png": "[encoded data removed]"
          },
          "metadata": {}
        },
        {
          "output_type": "stream",
          "name": "stdout",
          "text": [
            "ALS performs better than SVD on RMSE\n"
          ]
        }
      ]
    }
  ]
}